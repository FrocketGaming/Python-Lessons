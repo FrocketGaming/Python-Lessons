{
 "cells": [
  {
   "cell_type": "markdown",
   "id": "042c43e0",
   "metadata": {},
   "source": [
    "# Functions\n",
    "Re-usable templates of code."
   ]
  },
  {
   "cell_type": "code",
   "execution_count": 2,
   "id": "fbd0a0c6",
   "metadata": {},
   "outputs": [],
   "source": [
    "def print_name(name: str) -> None:\n",
    "    print(f\"Hello {name}\")"
   ]
  },
  {
   "cell_type": "code",
   "execution_count": 3,
   "id": "0bc46991",
   "metadata": {},
   "outputs": [
    {
     "name": "stdout",
     "output_type": "stream",
     "text": [
      "Hello chris\n",
      "Hello janet\n",
      "Hello dale\n"
     ]
    }
   ],
   "source": [
    "print_name(\"chris\")\n",
    "print_name(\"janet\")\n",
    "print_name(\"dale\")"
   ]
  },
  {
   "cell_type": "markdown",
   "id": "6b1c246f",
   "metadata": {},
   "source": [
    "Functions are great for re-usability of your code and they can interact with each other."
   ]
  },
  {
   "cell_type": "code",
   "execution_count": 4,
   "id": "2c1e91a6",
   "metadata": {},
   "outputs": [
    {
     "name": "stdout",
     "output_type": "stream",
     "text": [
      "31/08/2025 16:19:41\n"
     ]
    }
   ],
   "source": [
    "from datetime import datetime\n",
    "\n",
    "def get_time() -> str:\n",
    "    now = datetime.now()\n",
    "    return now.strftime(\"%H:%M:%S\")\n",
    "\n",
    "def get_date() -> str:\n",
    "    now = datetime.now()\n",
    "    return now.strftime(\"%d/%m/%Y\")\n",
    "\n",
    "def show_datetime() -> str:\n",
    "    time = get_time()\n",
    "    date = get_date()\n",
    "    return f\"{date} {time}\"\n",
    "\n",
    "print(show_datetime())"
   ]
  },
  {
   "cell_type": "markdown",
   "id": "b5bee550",
   "metadata": {},
   "source": [
    "Terminology"
   ]
  },
  {
   "cell_type": "code",
   "execution_count": 6,
   "id": "279e8b9a",
   "metadata": {},
   "outputs": [
    {
     "name": "stdout",
     "output_type": "stream",
     "text": [
      "Hello chris\n",
      "Hello janet\n",
      "Hello dale\n",
      "The order of the arguments must be the same as the order of the parameters.\n"
     ]
    }
   ],
   "source": [
    "# name is a parameter\n",
    "def print_name(name: str) -> None:\n",
    "    print(f\"Hello {name}\")\n",
    "\n",
    "# name is an argument\n",
    "print_name(\"chris\")\n",
    "print_name(\"janet\")\n",
    "print_name(\"dale\")\n",
    "\n",
    "# We pass arguments into the function. If the name of the parameter is not specified then the order of the arguments must be the same as the order of the parameters.\n",
    "try:\n",
    "    print_name(\"chris\", \"janet\", \"dale\") # This will not work\n",
    "except TypeError:\n",
    "    print(\"The order of the arguments must be the same as the order of the parameters.\")"
   ]
  },
  {
   "cell_type": "code",
   "execution_count": 10,
   "id": "e20ab2c4",
   "metadata": {},
   "outputs": [
    {
     "name": "stdout",
     "output_type": "stream",
     "text": [
      "Hello blue your favorite color is chris\n",
      "Hello chris your favorite color is blue\n"
     ]
    }
   ],
   "source": [
    "# You can specify use key word arguments if you don't want to remember the order\n",
    "def print_name_and_color(name: str, color: str) -> None:\n",
    "    print(f\"Hello {name} your favorite color is {color}\")\n",
    "\n",
    "print_name_and_color(\"blue\", \"chris\") # This is backwards\n",
    "print_name_and_color(color=\"blue\", name=\"chris\") # This works correctly"
   ]
  },
  {
   "cell_type": "code",
   "execution_count": null,
   "id": "48fc1875",
   "metadata": {},
   "outputs": [
    {
     "ename": "TypeError",
     "evalue": "print_name_and_color() missing 1 required positional argument: 'color'",
     "output_type": "error",
     "traceback": [
      "\u001b[31m---------------------------------------------------------------------------\u001b[39m",
      "\u001b[31mTypeError\u001b[39m                                 Traceback (most recent call last)",
      "\u001b[36mCell\u001b[39m\u001b[36m \u001b[39m\u001b[32mIn[14]\u001b[39m\u001b[32m, line 2\u001b[39m\n\u001b[32m      1\u001b[39m \u001b[38;5;66;03m# If parameters don't have default values then they are required!\u001b[39;00m\n\u001b[32m----> \u001b[39m\u001b[32m2\u001b[39m \u001b[43mprint_name_and_color\u001b[49m\u001b[43m(\u001b[49m\u001b[33;43m\"\u001b[39;49m\u001b[33;43mchris\u001b[39;49m\u001b[33;43m\"\u001b[39;49m\u001b[43m)\u001b[49m \u001b[38;5;66;03m# This will not work\u001b[39;00m\n",
      "\u001b[31mTypeError\u001b[39m: print_name_and_color() missing 1 required positional argument: 'color'"
     ]
    }
   ],
   "source": [
    "# If parameters don't have default values then they are required!\n",
    "print_name_and_color(\"chris\") # This will not work"
   ]
  },
  {
   "cell_type": "code",
   "execution_count": 15,
   "id": "853210c9",
   "metadata": {},
   "outputs": [
    {
     "name": "stdout",
     "output_type": "stream",
     "text": [
      "Hello chris your favorite color is blue\n"
     ]
    }
   ],
   "source": [
    "# Here we'll set color to a default value\n",
    "def print_name_and_color(name: str, color: str = \"blue\") -> None:\n",
    "    print(f\"Hello {name} your favorite color is {color}\")\n",
    "\n",
    "print_name_and_color(\"chris\")"
   ]
  },
  {
   "cell_type": "code",
   "execution_count": null,
   "id": "a55eafbd",
   "metadata": {},
   "outputs": [
    {
     "name": "stdout",
     "output_type": "stream",
     "text": [
      "5\n",
      "4\n",
      "3\n",
      "2\n",
      "1\n",
      "Blast off!\n"
     ]
    }
   ],
   "source": [
    "# Functions can call themselves, we call this recursion. \n",
    "def countdown(n: int) -> None:\n",
    "    if n <= 0:\n",
    "        print(\"Blast off!\")\n",
    "    else:\n",
    "        print(n)\n",
    "        countdown(n-1)\n",
    "\n",
    "countdown(5)"
   ]
  },
  {
   "cell_type": "code",
   "execution_count": 26,
   "id": "a45850bf",
   "metadata": {},
   "outputs": [
    {
     "name": "stdout",
     "output_type": "stream",
     "text": [
      "1\n",
      "2\n",
      "3\n"
     ]
    }
   ],
   "source": [
    "# Quick example of generators\n",
    "def get_nums(n: list[int]) -> int:\n",
    "    for num in n:\n",
    "        yield num\n",
    "\n",
    "numbers: list[int] = [1,2,3]\n",
    "\n",
    "generator = get_nums(numbers)\n",
    "print(next(generator))  # 1\n",
    "print(next(generator))  # 2\n",
    "print(next(generator))  # 3\n",
    "# next(generator) would now raise StopIteration\n"
   ]
  },
  {
   "cell_type": "code",
   "execution_count": null,
   "id": "dc7cb8d0",
   "metadata": {},
   "outputs": [],
   "source": []
  }
 ],
 "metadata": {
  "kernelspec": {
   "display_name": "base",
   "language": "python",
   "name": "python3"
  },
  "language_info": {
   "codemirror_mode": {
    "name": "ipython",
    "version": 3
   },
   "file_extension": ".py",
   "mimetype": "text/x-python",
   "name": "python",
   "nbconvert_exporter": "python",
   "pygments_lexer": "ipython3",
   "version": "3.12.8"
  }
 },
 "nbformat": 4,
 "nbformat_minor": 5
}
