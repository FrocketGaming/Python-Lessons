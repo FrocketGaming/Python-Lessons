{
 "cells": [
  {
   "cell_type": "markdown",
   "id": "2e009b45",
   "metadata": {},
   "source": [
    "# Arthimetic in Python"
   ]
  },
  {
   "cell_type": "code",
   "execution_count": 2,
   "id": "ec2166b6",
   "metadata": {},
   "outputs": [],
   "source": [
    "a: int = 5\n",
    "b: int = 10"
   ]
  },
  {
   "cell_type": "code",
   "execution_count": 18,
   "id": "00d983d4",
   "metadata": {},
   "outputs": [
    {
     "name": "stdout",
     "output_type": "stream",
     "text": [
      "Addition: 15\n",
      "Subtraction: -5\n",
      "Division: 0.5\n",
      "Multiplication: 50\n",
      "Exponent: 9765625\n",
      "----------------------------------------\n",
      "Floor Division: 2\n",
      "Another Floor Division: 2\n",
      "Modulo: 0\n"
     ]
    }
   ],
   "source": [
    "print(\"Addition:\", a + b)\n",
    "print(\"Subtraction:\", a - b)\n",
    "print(\"Division:\", a / b)\n",
    "print(\"Multiplication:\", a * b)\n",
    "print(\"Exponent:\", a ** b)\n",
    "\n",
    "print(\"--\" * 20)\n",
    "\n",
    "print(\"Floor Division:\", b // a) # Whole number of the division\n",
    "print(\"Another Floor Division:\", 5 // 2) # 2\n",
    "print(\"Modulo:\", b % a) # The remainder"
   ]
  },
  {
   "cell_type": "markdown",
   "id": "adbdb0bf",
   "metadata": {},
   "source": [
    "Like in normal math we use parenthesis to determine the order of operations"
   ]
  },
  {
   "cell_type": "code",
   "execution_count": 15,
   "id": "7ea2c6d7",
   "metadata": {},
   "outputs": [
    {
     "data": {
      "text/plain": [
       "55"
      ]
     },
     "execution_count": 15,
     "metadata": {},
     "output_type": "execute_result"
    }
   ],
   "source": [
    "a + (b * a) # 5 + (10 * 5)"
   ]
  },
  {
   "cell_type": "markdown",
   "id": "9f00ba2a",
   "metadata": {},
   "source": [
    "Built in math functions"
   ]
  },
  {
   "cell_type": "code",
   "execution_count": 22,
   "id": "775f2406",
   "metadata": {},
   "outputs": [
    {
     "name": "stdout",
     "output_type": "stream",
     "text": [
      "2\n",
      "7\n",
      "5\n",
      "5\n",
      "6\n",
      "(3, 1)\n"
     ]
    }
   ],
   "source": [
    "print(min(3, 2, 7))\n",
    "print(max(3, 2, 7))\n",
    "print(abs(-5))\n",
    "print(abs(5))\n",
    "print(sum([1,2,3]))\n",
    "print(divmod(10, 3)) # Floor Division and modulo together"
   ]
  },
  {
   "cell_type": "code",
   "execution_count": 26,
   "id": "51aa0039",
   "metadata": {},
   "outputs": [
    {
     "name": "stdout",
     "output_type": "stream",
     "text": [
      "5.0\n",
      "3.141592653589793\n"
     ]
    }
   ],
   "source": [
    "import math\n",
    "print(math.sqrt(25))\n",
    "print(math.pi)"
   ]
  }
 ],
 "metadata": {
  "kernelspec": {
   "display_name": "base",
   "language": "python",
   "name": "python3"
  },
  "language_info": {
   "codemirror_mode": {
    "name": "ipython",
    "version": 3
   },
   "file_extension": ".py",
   "mimetype": "text/x-python",
   "name": "python",
   "nbconvert_exporter": "python",
   "pygments_lexer": "ipython3",
   "version": "3.12.8"
  }
 },
 "nbformat": 4,
 "nbformat_minor": 5
}
