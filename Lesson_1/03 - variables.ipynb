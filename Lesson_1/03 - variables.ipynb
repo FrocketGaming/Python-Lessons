{
 "cells": [
  {
   "cell_type": "markdown",
   "id": "058bed29",
   "metadata": {},
   "source": [
    "# Variables\n",
    "Variables are references to where data is stored in the computers memory. They're one of the essential building blocks of programming."
   ]
  },
  {
   "cell_type": "markdown",
   "id": "9cdb5b39",
   "metadata": {},
   "source": [
    "### Declaring a Variable"
   ]
  },
  {
   "cell_type": "markdown",
   "id": "25c1c493",
   "metadata": {},
   "source": [
    "Basic Variable"
   ]
  },
  {
   "cell_type": "code",
   "execution_count": 1,
   "id": "91ce521f",
   "metadata": {},
   "outputs": [
    {
     "name": "stdout",
     "output_type": "stream",
     "text": [
      "Hello World\n"
     ]
    }
   ],
   "source": [
    "my_variable: str = \"Hello World\"\n",
    "print(my_variable)"
   ]
  },
  {
   "cell_type": "markdown",
   "id": "f9ecc63b",
   "metadata": {},
   "source": [
    "Variables can be any data type"
   ]
  },
  {
   "cell_type": "code",
   "execution_count": 2,
   "id": "61a6ea14",
   "metadata": {},
   "outputs": [],
   "source": [
    "my_dict: dict = {\"a\": 1, \"b\": 2, \"c\": 3}\n",
    "my_list: list[int] = [1, 2, 3]\n",
    "my_tuple: tuple[int] = (1, 2, 3)\n",
    "my_string: str = \"Hello World\"\n",
    "my_int: int = 1\n",
    "my_float: float = 1.0\n",
    "my_bool: bool = True"
   ]
  },
  {
   "cell_type": "markdown",
   "id": "0b7f0824",
   "metadata": {},
   "source": [
    "Variable reference example"
   ]
  },
  {
   "cell_type": "code",
   "execution_count": 4,
   "id": "25aaf754",
   "metadata": {},
   "outputs": [
    {
     "name": "stdout",
     "output_type": "stream",
     "text": [
      "0x7f96480e74b0\n"
     ]
    }
   ],
   "source": [
    "print(hex(id(my_variable))) # Returns the memory address"
   ]
  },
  {
   "cell_type": "code",
   "execution_count": 6,
   "id": "df104398",
   "metadata": {},
   "outputs": [
    {
     "name": "stdout",
     "output_type": "stream",
     "text": [
      "0x7f9639071c80\n"
     ]
    }
   ],
   "source": [
    "my_dict: dict = {\"name\": \"Chris\"}\n",
    "print(hex(id(my_dict)))"
   ]
  },
  {
   "cell_type": "markdown",
   "id": "cfd5305f",
   "metadata": {},
   "source": [
    "You can use the same variable names over and over again without conflict, it actually creates a new memory address."
   ]
  },
  {
   "cell_type": "code",
   "execution_count": 19,
   "id": "eaac0f00",
   "metadata": {},
   "outputs": [
    {
     "name": "stdout",
     "output_type": "stream",
     "text": [
      "3\n"
     ]
    }
   ],
   "source": [
    "a: int = 1\n",
    "a: int = 2\n",
    "a: int = 3\n",
    "\n",
    "print(a)"
   ]
  },
  {
   "cell_type": "markdown",
   "id": "297c0a17",
   "metadata": {},
   "source": [
    "You can also assign multiple variables to the same data."
   ]
  },
  {
   "cell_type": "code",
   "execution_count": 10,
   "id": "2d58f70c",
   "metadata": {},
   "outputs": [
    {
     "name": "stdout",
     "output_type": "stream",
     "text": [
      "0x55a33343ea48\n",
      "0x55a33343ea48\n"
     ]
    }
   ],
   "source": [
    "a: int = 1\n",
    "b: int = a\n",
    "\n",
    "print(hex(id(a)))\n",
    "print(hex(id(b)))"
   ]
  },
  {
   "cell_type": "markdown",
   "id": "feb4acce",
   "metadata": {},
   "source": [
    "If the object you reference is immutable then a new object is created instead of taking on the same reference id."
   ]
  },
  {
   "cell_type": "code",
   "execution_count": 14,
   "id": "e275cc12",
   "metadata": {},
   "outputs": [
    {
     "name": "stdout",
     "output_type": "stream",
     "text": [
      "0x7f96390d2000\n",
      "0x7f96390d2000\n"
     ]
    }
   ],
   "source": [
    "# Lists are mutable so the original list is updated (new_list)\n",
    "\n",
    "new_list: list[int] = [1, 2, 3]\n",
    "another_list: list[int] = new_list\n",
    "\n",
    "another_list.append(4)\n",
    "print(hex(id(new_list)))\n",
    "print(hex(id(another_list)))"
   ]
  },
  {
   "cell_type": "code",
   "execution_count": 17,
   "id": "bf915620",
   "metadata": {},
   "outputs": [
    {
     "name": "stdout",
     "output_type": "stream",
     "text": [
      "0x7f96390c5d00\n",
      "0x7f96390a0680\n",
      "----------------------------------------\n",
      "(1, 2, 3)\n",
      "(1, 2, 3, 4)\n"
     ]
    }
   ],
   "source": [
    "# Tuples are immutable so the original tuple is not updated (new_tuple)\n",
    "\n",
    "new_tuple: tuple[int] = (1, 2, 3)\n",
    "another_tuple: tuple[int] = new_tuple\n",
    "\n",
    "another_tuple += (4,)\n",
    "print(hex(id(new_tuple)))\n",
    "print(hex(id(another_tuple)))\n",
    "\n",
    "print(\"--\" * 20)\n",
    "print(new_tuple)\n",
    "print(another_tuple)"
   ]
  },
  {
   "cell_type": "markdown",
   "id": "394d0f88",
   "metadata": {},
   "source": [
    "### Using variables"
   ]
  },
  {
   "cell_type": "code",
   "execution_count": 20,
   "id": "41196954",
   "metadata": {},
   "outputs": [
    {
     "name": "stdout",
     "output_type": "stream",
     "text": [
      "4\n"
     ]
    }
   ],
   "source": [
    "a: int = 1\n",
    "b: int = 3\n",
    "results: int = a + b\n",
    "print(results)"
   ]
  },
  {
   "cell_type": "markdown",
   "id": "cfa629be",
   "metadata": {},
   "source": [
    "Variables allow us to pass data as it changes into other processes without 'hard coding' the values. Without variables you would have to manually type out the print statements every time the name, age, or city changes."
   ]
  },
  {
   "cell_type": "code",
   "execution_count": 23,
   "id": "fdc5d3a1",
   "metadata": {},
   "outputs": [
    {
     "name": "stdout",
     "output_type": "stream",
     "text": [
      "Chris is 25 years old\n",
      "Chris lives in New York\n",
      "Chris loves Python\n"
     ]
    }
   ],
   "source": [
    "name: str = \"Chris\"\n",
    "age: int = 25\n",
    "city: str = \"New York\"\n",
    "\n",
    "print(f\"{name} is {age} years old\")\n",
    "print(f\"{name} lives in {city}\")\n",
    "print(f\"{name} loves Python\")\n"
   ]
  },
  {
   "cell_type": "code",
   "execution_count": 24,
   "id": "f68698e6",
   "metadata": {},
   "outputs": [
    {
     "name": "stdout",
     "output_type": "stream",
     "text": [
      "2 is 3 years old\n",
      "2 lives in 2\n",
      "2 loves Python\n"
     ]
    }
   ],
   "source": [
    "# Using user input to modify the string\n",
    "\n",
    "name: str = input(\"Enter your name: \")\n",
    "age: int = int(input(\"Enter your age: \"))\n",
    "city: str = input(\"Enter your city: \")\n",
    "\n",
    "print(f\"{name} is {age} years old\")\n",
    "print(f\"{name} lives in {city}\")\n",
    "print(f\"{name} loves Python\")"
   ]
  }
 ],
 "metadata": {
  "kernelspec": {
   "display_name": "base",
   "language": "python",
   "name": "python3"
  },
  "language_info": {
   "codemirror_mode": {
    "name": "ipython",
    "version": 3
   },
   "file_extension": ".py",
   "mimetype": "text/x-python",
   "name": "python",
   "nbconvert_exporter": "python",
   "pygments_lexer": "ipython3",
   "version": "3.12.8"
  }
 },
 "nbformat": 4,
 "nbformat_minor": 5
}
