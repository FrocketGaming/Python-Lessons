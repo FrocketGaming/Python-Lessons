{
 "cells": [
  {
   "cell_type": "markdown",
   "id": "f781a61e",
   "metadata": {},
   "source": [
    "# Conditionals"
   ]
  },
  {
   "cell_type": "markdown",
   "id": "1dcb0f79",
   "metadata": {},
   "source": [
    "Conditional logic is really important, it determines how we can control the flow of our program using it as a lever to guide it certain directions based on conditions presented."
   ]
  },
  {
   "cell_type": "markdown",
   "id": "28bc5ed5",
   "metadata": {},
   "source": [
    "### If Statements"
   ]
  },
  {
   "cell_type": "code",
   "execution_count": 1,
   "id": "19671809",
   "metadata": {},
   "outputs": [
    {
     "name": "stdout",
     "output_type": "stream",
     "text": [
      "a is 10\n"
     ]
    }
   ],
   "source": [
    "a: int = 10\n",
    "\n",
    "if a == 10:\n",
    "    print(\"a is 10\")\n",
    "else:\n",
    "    print(\"a is not 10\")"
   ]
  },
  {
   "cell_type": "markdown",
   "id": "c30aa4e1",
   "metadata": {},
   "source": [
    "Using ELIF"
   ]
  },
  {
   "cell_type": "code",
   "execution_count": 2,
   "id": "bae63b89",
   "metadata": {},
   "outputs": [
    {
     "name": "stdout",
     "output_type": "stream",
     "text": [
      "a is 10\n"
     ]
    }
   ],
   "source": [
    "if a > 10:\n",
    "    print(\"a is greater than 10\")\n",
    "elif a == 10:\n",
    "    print(\"a is 10\")\n",
    "else:\n",
    "    print(\"a is less than 10\")"
   ]
  },
  {
   "cell_type": "markdown",
   "id": "cb0bb280",
   "metadata": {},
   "source": [
    "Using multiple conditions"
   ]
  },
  {
   "cell_type": "code",
   "execution_count": 7,
   "id": "0bd1e08c",
   "metadata": {},
   "outputs": [
    {
     "name": "stdout",
     "output_type": "stream",
     "text": [
      "a is greater than b and b is less than or equal to 5\n",
      "a is greater than b or b is less than or equal to 5\n",
      "a is greater than b and b is less than or equal to 5\n"
     ]
    }
   ],
   "source": [
    "a: int = 10\n",
    "b: int = 5\n",
    "\n",
    "if a > b and b <= 5: # Both must be True\n",
    "    print(\"a is greater than b and b is less than or equal to 5\")\n",
    "else:\n",
    "    print(\"a is not greater than b and b is not less than or equal to 5\")\n",
    "\n",
    "if a > b | b <= 5: # Either must be True\n",
    "    print(\"a is greater than b or b is less than or equal to 5\")\n",
    "\n",
    "if a > b & b <= 5: # Both must be True\n",
    "    print(\"a is greater than b and b is less than or equal to 5\")"
   ]
  },
  {
   "cell_type": "code",
   "execution_count": 5,
   "id": "3a44d6a3",
   "metadata": {},
   "outputs": [
    {
     "name": "stdout",
     "output_type": "stream",
     "text": [
      "a is greater than b or b is less than or equal to 5\n"
     ]
    }
   ],
   "source": [
    "if a > b or b <= 5: # Either must be True\n",
    "    print(\"a is greater than b or b is less than or equal to 5\")\n",
    "else:\n",
    "    print(\"a is not greater than b and b is not less than or equal to 5\")"
   ]
  },
  {
   "cell_type": "code",
   "execution_count": 7,
   "id": "79bac9d8",
   "metadata": {},
   "outputs": [
    {
     "name": "stdout",
     "output_type": "stream",
     "text": [
      "a is not greater than b\n"
     ]
    }
   ],
   "source": [
    "# Not\n",
    "if not a > b:\n",
    "    print(\"a is not greater than b\")\n",
    "else:\n",
    "    print(\"a is greater than b\")"
   ]
  },
  {
   "cell_type": "code",
   "execution_count": 6,
   "id": "1618b0c5",
   "metadata": {},
   "outputs": [
    {
     "name": "stdout",
     "output_type": "stream",
     "text": [
      "B\n"
     ]
    }
   ],
   "source": [
    "# Short hand\n",
    "a: int = 5\n",
    "b: int = 10\n",
    "\n",
    "print(\"A\") if a > b else print(\"B\")"
   ]
  },
  {
   "cell_type": "code",
   "execution_count": 8,
   "id": "2eefcd6b",
   "metadata": {},
   "outputs": [
    {
     "name": "stdout",
     "output_type": "stream",
     "text": [
      "a is not greater than b\n"
     ]
    }
   ],
   "source": [
    "# Nested Ifs\n",
    "\n",
    "if a > b:\n",
    "    if b <= 5:\n",
    "        print(\"a is greater than b and b is less than or equal to 5\")\n",
    "    else:\n",
    "        print(\"a is greater than b but b is greater than 5\")\n",
    "else:\n",
    "    print(\"a is not greater than b\")"
   ]
  },
  {
   "cell_type": "code",
   "execution_count": 10,
   "id": "85672e6c",
   "metadata": {},
   "outputs": [],
   "source": [
    "# Pass\n",
    "\n",
    "if a < b:\n",
    "    pass\n",
    "else:\n",
    "    print(\"a is not greater than b\")"
   ]
  },
  {
   "cell_type": "markdown",
   "id": "9f497e09",
   "metadata": {},
   "source": [
    "Additional conditionals statements"
   ]
  },
  {
   "cell_type": "code",
   "execution_count": null,
   "id": "90cfad17",
   "metadata": {},
   "outputs": [
    {
     "name": "stdout",
     "output_type": "stream",
     "text": [
      "True\n",
      "False\n",
      "True\n",
      "False\n",
      "True\n",
      "False\n",
      "True\n",
      "False\n"
     ]
    }
   ],
   "source": [
    "spam: bool = True\n",
    "eggs: bool = False\n",
    "\n",
    "if spam is True: # True\n",
    "    print(spam)\n",
    "\n",
    "if eggs is False: # False\n",
    "    print(eggs)\n",
    "\n",
    "if spam: # True\n",
    "    print(spam)\n",
    "\n",
    "if eggs: # False\n",
    "    print(eggs)\n",
    "\n",
    "if not spam: # False\n",
    "    print(spam)\n",
    "\n",
    "if not eggs: # True\n",
    "    print(eggs)\n",
    "\n",
    "if spam is not False: # True\n",
    "    print(spam)\n",
    "\n",
    "if not spam: # False\n",
    "    print(spam)\n",
    "\n",
    "if not eggs: # True\n",
    "    print(eggs)\n",
    "\n",
    "if spam is not None: # True\n",
    "    print(spam)\n",
    "\n",
    "if eggs is not None: # False\n",
    "    print(eggs)"
   ]
  },
  {
   "cell_type": "markdown",
   "id": "3abfa730",
   "metadata": {},
   "source": [
    "Truthiness"
   ]
  },
  {
   "cell_type": "code",
   "execution_count": null,
   "id": "aa3f5f0b",
   "metadata": {},
   "outputs": [
    {
     "ename": "SyntaxError",
     "evalue": "invalid syntax (2797706676.py, line 7)",
     "output_type": "error",
     "traceback": [
      "  \u001b[36mCell\u001b[39m\u001b[36m \u001b[39m\u001b[32mIn[1]\u001b[39m\u001b[32m, line 7\u001b[39m\n\u001b[31m    \u001b[39m\u001b[31mfinally:\u001b[39m\n    ^\n\u001b[31mSyntaxError\u001b[39m\u001b[31m:\u001b[39m invalid syntax\n"
     ]
    }
   ],
   "source": [
    "a: int = 10\n",
    "\n",
    "if a:\n",
    "    print(\"a is True\")\n",
    "else:\n",
    "    print(\"a is False\")"
   ]
  },
  {
   "cell_type": "code",
   "execution_count": null,
   "id": "fc892e76",
   "metadata": {},
   "outputs": [],
   "source": []
  }
 ],
 "metadata": {
  "kernelspec": {
   "display_name": "base",
   "language": "python",
   "name": "python3"
  },
  "language_info": {
   "codemirror_mode": {
    "name": "ipython",
    "version": 3
   },
   "file_extension": ".py",
   "mimetype": "text/x-python",
   "name": "python",
   "nbconvert_exporter": "python",
   "pygments_lexer": "ipython3",
   "version": "3.12.8"
  }
 },
 "nbformat": 4,
 "nbformat_minor": 5
}
