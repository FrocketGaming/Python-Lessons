{
 "cells": [
  {
   "cell_type": "markdown",
   "id": "49a0f24e",
   "metadata": {},
   "source": [
    "# Python Datatypes\n",
    "Strings, Floats, Integers, Booleans, Lists, Dictionaries, and NoneType"
   ]
  },
  {
   "cell_type": "markdown",
   "id": "cb8d493e",
   "metadata": {},
   "source": [
    "Quick Overview"
   ]
  },
  {
   "cell_type": "code",
   "execution_count": 62,
   "id": "dddd7472",
   "metadata": {},
   "outputs": [
    {
     "data": {
      "text/plain": [
       "{'one': 1, 'two': 2, 'three': 3}"
      ]
     },
     "execution_count": 62,
     "metadata": {},
     "output_type": "execute_result"
    }
   ],
   "source": [
    "24 # int\n",
    "\"name\" # str\n",
    "True # bool\n",
    "1.0 # float\n",
    "[1, 2, 3] # list\n",
    "(1, 2, 3) # tuple\n",
    "{\"one\": 1, \"two\": 2, \"three\": 3} # dict"
   ]
  },
  {
   "cell_type": "markdown",
   "id": "c818659c",
   "metadata": {},
   "source": [
    "### Strings\n",
    "Strings are surrounded with either single or double quotes \n",
    "Example: 'Chris' or \"Chris\""
   ]
  },
  {
   "cell_type": "markdown",
   "id": "d5376588",
   "metadata": {},
   "source": [
    "Basic String assignment"
   ]
  },
  {
   "cell_type": "code",
   "execution_count": null,
   "metadata": {},
   "outputs": [],
   "source": [
    "name: str = \"Chris\"\n",
    "location: str = \"New York\"\n",
    "age: str = \"25\""
   ]
  },
  {
   "cell_type": "markdown",
   "id": "8f7ea866",
   "metadata": {},
   "source": [
    "String concatination"
   ]
  },
  {
   "cell_type": "code",
   "execution_count": 3,
   "id": "7187701a",
   "metadata": {},
   "outputs": [],
   "source": [
    "name_location: str = \"Chris\" + \" \" + \"New York\""
   ]
  },
  {
   "cell_type": "markdown",
   "id": "446c8bdb",
   "metadata": {},
   "source": [
    "Printing the strings to review the results"
   ]
  },
  {
   "cell_type": "code",
   "execution_count": 5,
   "id": "09b2da0f",
   "metadata": {},
   "outputs": [
    {
     "name": "stdout",
     "output_type": "stream",
     "text": [
      "Chris\n",
      "Chris, New York, 25\n",
      "25 <class 'str'>\n"
     ]
    }
   ],
   "source": [
    "print(name) # Single variable\n",
    "print(name, location, age, sep=\", \") # Multiple Variables\n",
    "print(age, type(age)) # Variable and datatype"
   ]
  },
  {
   "cell_type": "markdown",
   "id": "7d83830a",
   "metadata": {},
   "source": [
    "String Functions (but not all of them)"
   ]
  },
  {
   "cell_type": "code",
   "execution_count": 48,
   "id": "a83583d1",
   "metadata": {},
   "outputs": [
    {
     "name": "stdout",
     "output_type": "stream",
     "text": [
      "['__add__', '__class__', '__contains__', '__delattr__', '__dir__', '__doc__', '__eq__', '__format__', '__ge__', '__getattribute__', '__getitem__', '__getnewargs__', '__getstate__', '__gt__', '__hash__', '__init__', '__init_subclass__', '__iter__', '__le__', '__len__', '__lt__', '__mod__', '__mul__', '__ne__', '__new__', '__reduce__', '__reduce_ex__', '__repr__', '__rmod__', '__rmul__', '__setattr__', '__sizeof__', '__str__', '__subclasshook__', 'capitalize', 'casefold', 'center', 'count', 'encode', 'endswith', 'expandtabs', 'find', 'format', 'format_map', 'index', 'isalnum', 'isalpha', 'isascii', 'isdecimal', 'isdigit', 'isidentifier', 'islower', 'isnumeric', 'isprintable', 'isspace', 'istitle', 'isupper', 'join', 'ljust', 'lower', 'lstrip', 'maketrans', 'partition', 'removeprefix', 'removesuffix', 'replace', 'rfind', 'rindex', 'rjust', 'rpartition', 'rsplit', 'rstrip', 'split', 'splitlines', 'startswith', 'strip', 'swapcase', 'title', 'translate', 'upper', 'zfill']\n",
      "chris\n",
      "CHRIS\n",
      "Chris\n",
      "['Chris', 'New', 'York']\n"
     ]
    }
   ],
   "source": [
    "print(dir(str))\n",
    "print(name.lower())\n",
    "print(name.upper())\n",
    "print(name.title())\n",
    "print(name_location.split(\" \"))"
   ]
  },
  {
   "cell_type": "code",
   "execution_count": 2,
   "id": "73a01af1",
   "metadata": {},
   "outputs": [
    {
     "name": "stdout",
     "output_type": "stream",
     "text": [
      "\n",
      "This is a multi-line string.\n",
      "\n",
      "It has multiple lines.\n"
     ]
    }
   ],
   "source": [
    "new_string: str = \"\"\"\n",
    "This is a multi-line string.\n",
    "\n",
    "It has multiple lines.\"\"\"\n",
    "print(new_string)"
   ]
  },
  {
   "cell_type": "markdown",
   "id": "2934a7a9",
   "metadata": {},
   "source": [
    "### Format Strings\n",
    "This is a way to use your variables inside strings and format strings more easily."
   ]
  },
  {
   "cell_type": "code",
   "execution_count": 11,
   "id": "0e079d1c",
   "metadata": {},
   "outputs": [
    {
     "name": "stdout",
     "output_type": "stream",
     "text": [
      "Hello Chris\n",
      "Hello Chris\n",
      "{Chris}\n",
      "{name}\n"
     ]
    }
   ],
   "source": [
    "name: str = \"Chris\"\n",
    "\n",
    "print(f\"Hello {name}\")\n",
    "print(\"Hello {}\".format(name))\n",
    "\n",
    "# If you want the brackets in the output, you need triple sets.\n",
    "print(f\"{{{name}}}\") \n",
    "print(f\"{{name}}\") # Notice this actually prints the variable name and not the value"
   ]
  },
  {
   "cell_type": "markdown",
   "id": "7a44df59",
   "metadata": {},
   "source": [
    "### Floats\n",
    "Datatype used to represent decimal values. The difference between a Float and Integer is simple the use of the decimal. \n"
   ]
  },
  {
   "cell_type": "markdown",
   "id": "f6b956e6",
   "metadata": {},
   "source": [
    "Basic Float assignment"
   ]
  },
  {
   "cell_type": "code",
   "execution_count": 7,
   "id": "7acd316b",
   "metadata": {},
   "outputs": [
    {
     "name": "stdout",
     "output_type": "stream",
     "text": [
      "6.1, 150.0, 25.0\n",
      "25.0 <class 'float'>\n"
     ]
    }
   ],
   "source": [
    "height: float = 6.1\n",
    "weight: float = 150.0\n",
    "age: float = 25.0\n",
    "print(height, weight, age, sep=\", \")\n",
    "print(age, type(age))"
   ]
  },
  {
   "cell_type": "markdown",
   "id": "de2c8e23",
   "metadata": {},
   "source": [
    "Basic math operations with Floats"
   ]
  },
  {
   "cell_type": "code",
   "execution_count": 13,
   "id": "c4cce412",
   "metadata": {},
   "outputs": [
    {
     "name": "stdout",
     "output_type": "stream",
     "text": [
      "26.0, 24.0, 50.0, 12.5\n"
     ]
    }
   ],
   "source": [
    "add_year: float = age + 1.0\n",
    "sub_year: float = age - 1.0\n",
    "mul_year: float = age * 2.0\n",
    "div_year: float = age / 2.0\n",
    "print(add_year, sub_year, mul_year, div_year, sep=\", \")"
   ]
  },
  {
   "cell_type": "markdown",
   "id": "e5c66603",
   "metadata": {},
   "source": [
    "Float Functions (but not all of them)"
   ]
  },
  {
   "cell_type": "code",
   "execution_count": 49,
   "id": "1b12955a",
   "metadata": {},
   "outputs": [
    {
     "name": "stdout",
     "output_type": "stream",
     "text": [
      "['__abs__', '__add__', '__bool__', '__ceil__', '__class__', '__delattr__', '__dir__', '__divmod__', '__doc__', '__eq__', '__float__', '__floor__', '__floordiv__', '__format__', '__ge__', '__getattribute__', '__getformat__', '__getnewargs__', '__getstate__', '__gt__', '__hash__', '__init__', '__init_subclass__', '__int__', '__le__', '__lt__', '__mod__', '__mul__', '__ne__', '__neg__', '__new__', '__pos__', '__pow__', '__radd__', '__rdivmod__', '__reduce__', '__reduce_ex__', '__repr__', '__rfloordiv__', '__rmod__', '__rmul__', '__round__', '__rpow__', '__rsub__', '__rtruediv__', '__setattr__', '__sizeof__', '__str__', '__sub__', '__subclasshook__', '__truediv__', '__trunc__', 'as_integer_ratio', 'conjugate', 'fromhex', 'hex', 'imag', 'is_integer', 'real']\n",
      "False\n",
      "True\n",
      "True\n"
     ]
    }
   ],
   "source": [
    "print(dir(float))\n",
    "print(height.is_integer())\n",
    "print(weight.is_integer())\n",
    "print(age.is_integer())"
   ]
  },
  {
   "cell_type": "markdown",
   "id": "cfaf514c",
   "metadata": {},
   "source": [
    "### Integers\n",
    "As mentioned for Floats, very similar but does not include decimal places."
   ]
  },
  {
   "cell_type": "markdown",
   "id": "3108e33e",
   "metadata": {},
   "source": [
    "Basic Integer assignments"
   ]
  },
  {
   "cell_type": "code",
   "execution_count": 16,
   "id": "24890ec2",
   "metadata": {},
   "outputs": [
    {
     "name": "stdout",
     "output_type": "stream",
     "text": [
      "150, 25\n",
      "25 <class 'int'>\n"
     ]
    }
   ],
   "source": [
    "age: int = 25\n",
    "weight: int = 150\n",
    "print(weight, age, sep=\", \")\n",
    "print(age, type(age))"
   ]
  },
  {
   "cell_type": "markdown",
   "id": "ecd62194",
   "metadata": {},
   "source": [
    "Basic math operations with Integers"
   ]
  },
  {
   "cell_type": "code",
   "execution_count": 18,
   "id": "2bab8302",
   "metadata": {},
   "outputs": [
    {
     "name": "stdout",
     "output_type": "stream",
     "text": [
      "25\n"
     ]
    }
   ],
   "source": [
    "birth_year: int = 2000\n",
    "current_year: int = 2025\n",
    "age: int = current_year - birth_year\n",
    "print(age)"
   ]
  },
  {
   "cell_type": "markdown",
   "id": "a512b35e",
   "metadata": {},
   "source": [
    "Integer Functions (but not all of them)"
   ]
  },
  {
   "cell_type": "code",
   "execution_count": 52,
   "id": "8f52652b",
   "metadata": {},
   "outputs": [
    {
     "name": "stdout",
     "output_type": "stream",
     "text": [
      "['__abs__', '__add__', '__and__', '__bool__', '__ceil__', '__class__', '__delattr__', '__dir__', '__divmod__', '__doc__', '__eq__', '__float__', '__floor__', '__floordiv__', '__format__', '__ge__', '__getattribute__', '__getnewargs__', '__getstate__', '__gt__', '__hash__', '__index__', '__init__', '__init_subclass__', '__int__', '__invert__', '__le__', '__lshift__', '__lt__', '__mod__', '__mul__', '__ne__', '__neg__', '__new__', '__or__', '__pos__', '__pow__', '__radd__', '__rand__', '__rdivmod__', '__reduce__', '__reduce_ex__', '__repr__', '__rfloordiv__', '__rlshift__', '__rmod__', '__rmul__', '__ror__', '__round__', '__rpow__', '__rrshift__', '__rshift__', '__rsub__', '__rtruediv__', '__rxor__', '__setattr__', '__sizeof__', '__str__', '__sub__', '__subclasshook__', '__truediv__', '__trunc__', '__xor__', 'as_integer_ratio', 'bit_count', 'bit_length', 'conjugate', 'denominator', 'from_bytes', 'imag', 'is_integer', 'numerator', 'real', 'to_bytes']\n",
      "5\n",
      "True\n"
     ]
    }
   ],
   "source": [
    "print(dir(int))\n",
    "print(age.bit_length())\n",
    "print(age.is_integer())"
   ]
  },
  {
   "cell_type": "markdown",
   "id": "2efbc7e3",
   "metadata": {},
   "source": [
    "### Booleans\n",
    "True(1) or False(0) values, commonly used for conditional or logical statements."
   ]
  },
  {
   "cell_type": "markdown",
   "id": "b0e5aa30",
   "metadata": {},
   "source": [
    "Basic Boolean assignments"
   ]
  },
  {
   "cell_type": "code",
   "execution_count": 20,
   "id": "c7563c1f",
   "metadata": {},
   "outputs": [
    {
     "name": "stdout",
     "output_type": "stream",
     "text": [
      "True, False\n",
      "True <class 'bool'>\n"
     ]
    }
   ],
   "source": [
    "male: bool = True # can be thought of as 1\n",
    "female: bool = False # can be thought of as 0\n",
    "print(male, female, sep=\", \")\n",
    "print(male, type(male))"
   ]
  },
  {
   "cell_type": "markdown",
   "id": "3f60a6a6",
   "metadata": {},
   "source": [
    "Underlying Boolean values demonstration"
   ]
  },
  {
   "cell_type": "code",
   "execution_count": 23,
   "id": "6c83254c",
   "metadata": {},
   "outputs": [
    {
     "name": "stdout",
     "output_type": "stream",
     "text": [
      "male + female = 1\n",
      "male * 5 = 5\n"
     ]
    }
   ],
   "source": [
    "print(\"male + female =\", male + female)  # 1 + 0 = 1\n",
    "print(\"male * 5 =\", male * 5) # 1 * 5 = 5"
   ]
  },
  {
   "cell_type": "markdown",
   "id": "2b0385e2",
   "metadata": {},
   "source": [
    "Boolean Functions (but not all of them)"
   ]
  },
  {
   "cell_type": "code",
   "execution_count": 54,
   "id": "0bfac88f",
   "metadata": {},
   "outputs": [
    {
     "name": "stdout",
     "output_type": "stream",
     "text": [
      "['__abs__', '__add__', '__and__', '__bool__', '__ceil__', '__class__', '__delattr__', '__dir__', '__divmod__', '__doc__', '__eq__', '__float__', '__floor__', '__floordiv__', '__format__', '__ge__', '__getattribute__', '__getnewargs__', '__getstate__', '__gt__', '__hash__', '__index__', '__init__', '__init_subclass__', '__int__', '__invert__', '__le__', '__lshift__', '__lt__', '__mod__', '__mul__', '__ne__', '__neg__', '__new__', '__or__', '__pos__', '__pow__', '__radd__', '__rand__', '__rdivmod__', '__reduce__', '__reduce_ex__', '__repr__', '__rfloordiv__', '__rlshift__', '__rmod__', '__rmul__', '__ror__', '__round__', '__rpow__', '__rrshift__', '__rshift__', '__rsub__', '__rtruediv__', '__rxor__', '__setattr__', '__sizeof__', '__str__', '__sub__', '__subclasshook__', '__truediv__', '__trunc__', '__xor__', 'as_integer_ratio', 'bit_count', 'bit_length', 'conjugate', 'denominator', 'from_bytes', 'imag', 'is_integer', 'numerator', 'real', 'to_bytes']\n",
      "1\n",
      "True\n"
     ]
    }
   ],
   "source": [
    "print(dir(bool))\n",
    "print(male.bit_length())\n",
    "print(male.is_integer())"
   ]
  },
  {
   "cell_type": "markdown",
   "id": "457b1075",
   "metadata": {},
   "source": [
    "### Lists\n",
    "Datatype used to store a collection of items. This datatype is mutable and can be ordered."
   ]
  },
  {
   "cell_type": "markdown",
   "id": "bb89c63b",
   "metadata": {},
   "source": [
    "Basic List assignment"
   ]
  },
  {
   "cell_type": "code",
   "execution_count": 27,
   "id": "74857ccd",
   "metadata": {},
   "outputs": [
    {
     "name": "stdout",
     "output_type": "stream",
     "text": [
      "[1, 2, 3] <class 'list'>\n"
     ]
    }
   ],
   "source": [
    "my_list: list[int] = [1, 2, 3]\n",
    "print(my_list, type(my_list))"
   ]
  },
  {
   "cell_type": "markdown",
   "id": "f8cfa763",
   "metadata": {},
   "source": [
    "Mutability example"
   ]
  },
  {
   "cell_type": "code",
   "execution_count": 29,
   "id": "9755b6dd",
   "metadata": {},
   "outputs": [
    {
     "name": "stdout",
     "output_type": "stream",
     "text": [
      "Original list: [1, 2, 3] id: 0x7f6f5c150e40\n",
      "Modified list: [1, 2, 3, 4] id: 0x7f6f5c150e40\n"
     ]
    }
   ],
   "source": [
    "my_list: list[int] = [1, 2, 3]\n",
    "print(\"Original list:\", my_list, \"id:\", hex(id(my_list)))\n",
    "\n",
    "# modify the list in-place\n",
    "my_list.append(4)\n",
    "print(\"Modified list:\", my_list, \"id:\", hex(id(my_list)))"
   ]
  },
  {
   "cell_type": "markdown",
   "id": "554daa05",
   "metadata": {},
   "source": [
    "Other List Examples"
   ]
  },
  {
   "cell_type": "code",
   "execution_count": 32,
   "id": "0c1f9a26",
   "metadata": {},
   "outputs": [
    {
     "name": "stdout",
     "output_type": "stream",
     "text": [
      "[1, 'two', 3.0]\n",
      "[]\n",
      "[1, 2, 3, [4, 5, 6]]\n",
      "1\n",
      "[4, 5, 6]\n"
     ]
    }
   ],
   "source": [
    "# Lists can have multiple datatypes\n",
    "my_list: list = [1, \"two\", 3.0]\n",
    "print(my_list)\n",
    "\n",
    "# Lists can also be empty\n",
    "my_list: list = []\n",
    "print(my_list)\n",
    "\n",
    "# Lists can also be nested\n",
    "my_list: list = [1, 2, 3, [4, 5, 6]]\n",
    "print(my_list)\n",
    "\n",
    "# Lists can be indexed\n",
    "print(my_list[0]) # prints 1\n",
    "print(my_list[3]) # prints [4, 5, 6]"
   ]
  },
  {
   "cell_type": "markdown",
   "id": "16253d57",
   "metadata": {},
   "source": [
    "List Functions (but not all of them)"
   ]
  },
  {
   "cell_type": "code",
   "execution_count": 61,
   "id": "a56e0964",
   "metadata": {},
   "outputs": [
    {
     "name": "stdout",
     "output_type": "stream",
     "text": [
      "['__add__', '__class__', '__class_getitem__', '__contains__', '__delattr__', '__delitem__', '__dir__', '__doc__', '__eq__', '__format__', '__ge__', '__getattribute__', '__getitem__', '__getstate__', '__gt__', '__hash__', '__iadd__', '__imul__', '__init__', '__init_subclass__', '__iter__', '__le__', '__len__', '__lt__', '__mul__', '__ne__', '__new__', '__reduce__', '__reduce_ex__', '__repr__', '__reversed__', '__rmul__', '__setattr__', '__setitem__', '__sizeof__', '__str__', '__subclasshook__', 'append', 'clear', 'copy', 'count', 'extend', 'index', 'insert', 'pop', 'remove', 'reverse', 'sort']\n",
      "2\n",
      "2\n",
      "3\n"
     ]
    }
   ],
   "source": [
    "print(dir(list))\n",
    "my_list: list[int] = [1, 2, 3, 3, 5]\n",
    "print(my_list.count(3))\n",
    "print(my_list.index(3))\n",
    "print(my_list.pop(2))"
   ]
  },
  {
   "cell_type": "markdown",
   "id": "c3077241",
   "metadata": {},
   "source": [
    "### Tuples\n",
    "An immutable ordered collection of items; this means when they are created their data cannot be modified. Defined by using parenthesis and comma separated values."
   ]
  },
  {
   "cell_type": "markdown",
   "id": "f49329b4",
   "metadata": {},
   "source": [
    "Basic Tuple assignment"
   ]
  },
  {
   "cell_type": "code",
   "execution_count": 33,
   "id": "2b06aeac",
   "metadata": {},
   "outputs": [
    {
     "name": "stdout",
     "output_type": "stream",
     "text": [
      "(1, 2, 3) <class 'tuple'>\n"
     ]
    }
   ],
   "source": [
    "my_tuple: tuple = (1, 2, 3)\n",
    "print(my_tuple, type(my_tuple))"
   ]
  },
  {
   "cell_type": "markdown",
   "id": "04120b54",
   "metadata": {},
   "source": [
    "Immutability example"
   ]
  },
  {
   "cell_type": "code",
   "execution_count": 36,
   "id": "d5f71613",
   "metadata": {},
   "outputs": [
    {
     "name": "stdout",
     "output_type": "stream",
     "text": [
      "Original tuple: (1, 2, 3) id: 0x7f6f3e872ac0\n",
      "New tuple is created: (1, 2, 3, 4) id: 0x7f6f3e889760\n",
      "Original tuple after: (1, 2, 3) id: 0x7f6f3e872ac0\n"
     ]
    }
   ],
   "source": [
    "my_tuple: tuple = (1, 2, 3)\n",
    "print(\"Original tuple:\", my_tuple, \"id:\", hex(id(my_tuple)))\n",
    "\n",
    "# try to “change” it\n",
    "new_tuple: tuple = my_tuple + (4,)  # creates a new tuple\n",
    "print(\"New tuple is created:\", new_tuple, \"id:\", hex(id(new_tuple)))\n",
    "print(\"Original tuple after:\", my_tuple, \"id:\", hex(id(my_tuple)))"
   ]
  },
  {
   "cell_type": "markdown",
   "id": "4124166d",
   "metadata": {},
   "source": [
    "Tuple Functions (but not all of them)"
   ]
  },
  {
   "cell_type": "code",
   "execution_count": 63,
   "id": "f612e5c6",
   "metadata": {},
   "outputs": [
    {
     "name": "stdout",
     "output_type": "stream",
     "text": [
      "['__add__', '__class__', '__class_getitem__', '__contains__', '__delattr__', '__dir__', '__doc__', '__eq__', '__format__', '__ge__', '__getattribute__', '__getitem__', '__getnewargs__', '__getstate__', '__gt__', '__hash__', '__init__', '__init_subclass__', '__iter__', '__le__', '__len__', '__lt__', '__mul__', '__ne__', '__new__', '__reduce__', '__reduce_ex__', '__repr__', '__rmul__', '__setattr__', '__sizeof__', '__str__', '__subclasshook__', 'count', 'index']\n",
      "1\n",
      "2\n"
     ]
    }
   ],
   "source": [
    "print(dir(tuple))\n",
    "print(my_tuple.count(3))\n",
    "print(my_tuple.index(3))"
   ]
  },
  {
   "cell_type": "markdown",
   "id": "39a29497",
   "metadata": {},
   "source": [
    "### Dictionary\n",
    "Data structure that has key-value pairs which create a relationship between the key and value making it excellent for storing/retrieving data. \n",
    "\n",
    "Keys must be unique and immutable\n",
    "Values can be any data type (can even be nested dictionaries)"
   ]
  },
  {
   "cell_type": "markdown",
   "id": "ba7b653e",
   "metadata": {},
   "source": [
    "Basic Dictionary assignment"
   ]
  },
  {
   "cell_type": "code",
   "execution_count": 37,
   "id": "6cfda0d0",
   "metadata": {},
   "outputs": [
    {
     "name": "stdout",
     "output_type": "stream",
     "text": [
      "{'one': 1, 'two': 2, 'three': 3} <class 'dict'>\n"
     ]
    }
   ],
   "source": [
    "my_dict: dict = {\"one\": 1, \"two\": 2, \"three\": 3}\n",
    "print(my_dict, type(my_dict))"
   ]
  },
  {
   "cell_type": "markdown",
   "id": "86d40eff",
   "metadata": {},
   "source": [
    "Modifying Dictionaries"
   ]
  },
  {
   "cell_type": "code",
   "execution_count": 80,
   "id": "c13dfb71",
   "metadata": {},
   "outputs": [
    {
     "name": "stdout",
     "output_type": "stream",
     "text": [
      "Modified dict: {'one': 1, 'three': 3, 'four': 4, 'two': 22} id: 0x7f6f3e8c1c40\n",
      "Updated dict: {'one': 1, 'three': 3, 'four': 4, 'two': 22} id: 0x7f6f3e8c1c40\n"
     ]
    }
   ],
   "source": [
    "# modify a value\n",
    "my_dict[\"two\"] = 22\n",
    "print(\"Modified dict:\", my_dict, \"id:\", hex(id(my_dict)))\n",
    "\n",
    "# add a new key-value pair\n",
    "my_dict[\"four\"] = 4\n",
    "print(\"Updated dict:\", my_dict, \"id:\", hex(id(my_dict)))"
   ]
  },
  {
   "cell_type": "markdown",
   "id": "1c55e632",
   "metadata": {},
   "source": [
    "Accessing values in the Dictionary"
   ]
  },
  {
   "cell_type": "code",
   "execution_count": 81,
   "id": "dd30f91f",
   "metadata": {},
   "outputs": [
    {
     "name": "stdout",
     "output_type": "stream",
     "text": [
      "22\n",
      "22\n",
      "----------------------------------------\n",
      "1, 22, 3\n",
      "1, 22, 3\n",
      "----------------------------------------\n",
      "one, 1\n",
      "three, 3\n",
      "four, 4\n",
      "two, 22\n"
     ]
    }
   ],
   "source": [
    "# Accessing single value\n",
    "print(my_dict[\"two\"])\n",
    "# Accessing single value\n",
    "print(my_dict.get(\"two\"))\n",
    "\n",
    "print(\"--\" * 20)\n",
    "\n",
    "\n",
    "# Accessing multiple values\n",
    "print(my_dict[\"one\"], my_dict[\"two\"], my_dict[\"three\"], sep=\", \")\n",
    "# Accessing multiple values\n",
    "print(my_dict.get(\"one\"), my_dict.get(\"two\"), my_dict.get(\"three\"), sep=\", \")\n",
    "\n",
    "print(\"--\" * 20)\n",
    "\n",
    "# Iterating over a dictionary\n",
    "for key, value in my_dict.items():\n",
    "    print(key, value, sep=\", \")"
   ]
  },
  {
   "cell_type": "markdown",
   "id": "fa0bee0f",
   "metadata": {},
   "source": [
    "Dictionary Functions (but not all of them)"
   ]
  },
  {
   "cell_type": "code",
   "execution_count": 82,
   "id": "40dab559",
   "metadata": {},
   "outputs": [
    {
     "name": "stdout",
     "output_type": "stream",
     "text": [
      "['__class__', '__class_getitem__', '__contains__', '__delattr__', '__delitem__', '__dir__', '__doc__', '__eq__', '__format__', '__ge__', '__getattribute__', '__getitem__', '__getstate__', '__gt__', '__hash__', '__init__', '__init_subclass__', '__ior__', '__iter__', '__le__', '__len__', '__lt__', '__ne__', '__new__', '__or__', '__reduce__', '__reduce_ex__', '__repr__', '__reversed__', '__ror__', '__setattr__', '__setitem__', '__sizeof__', '__str__', '__subclasshook__', 'clear', 'copy', 'fromkeys', 'get', 'items', 'keys', 'pop', 'popitem', 'setdefault', 'update', 'values']\n",
      "{'one': 1, 'three': 3, 'four': 4, 'two': 22}\n",
      "dict_keys(['one', 'three', 'four', 'two'])\n",
      "dict_values([1, 3, 4, 22])\n",
      "dict_items([('one', 1), ('three', 3), ('four', 4), ('two', 22)])\n",
      "22\n",
      "22\n",
      "{'one': 1, 'three': 3, 'four': 4}\n"
     ]
    }
   ],
   "source": [
    "print(dir(dict))\n",
    "print(my_dict)\n",
    "print(my_dict.keys()) # access keys\n",
    "print(my_dict.values()) # access values\n",
    "print(my_dict.items()) # access key-value pairs\n",
    "print(my_dict.get(\"two\")) # access values\n",
    "print(my_dict.pop(\"two\")) # remove key-value pair\n",
    "\n",
    "print(my_dict) # print updated dictionary"
   ]
  },
  {
   "cell_type": "code",
   "execution_count": null,
   "id": "5a1432ff",
   "metadata": {},
   "outputs": [],
   "source": []
  }
 ],
 "metadata": {
  "kernelspec": {
   "display_name": "base",
   "language": "python",
   "name": "python3"
  },
  "language_info": {
   "codemirror_mode": {
    "name": "ipython",
    "version": 3
   },
   "file_extension": ".py",
   "mimetype": "text/x-python",
   "name": "python",
   "nbconvert_exporter": "python",
   "pygments_lexer": "ipython3",
   "version": "3.12.8"
  }
 },
 "nbformat": 4,
 "nbformat_minor": 5
}
