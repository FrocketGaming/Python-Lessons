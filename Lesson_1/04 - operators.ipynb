{
 "cells": [
  {
   "cell_type": "markdown",
   "id": "4f0c971e",
   "metadata": {},
   "source": [
    "# Operators\n",
    "There are a few different types of operators we want to cover (comparison, logical, and assignment)"
   ]
  },
  {
   "cell_type": "markdown",
   "id": "45e70ef1",
   "metadata": {},
   "source": [
    "### Comparison Operators"
   ]
  },
  {
   "cell_type": "code",
   "execution_count": 1,
   "id": "5cc8016b",
   "metadata": {},
   "outputs": [],
   "source": [
    "a: int = 5\n",
    "b: int = 5"
   ]
  },
  {
   "cell_type": "code",
   "execution_count": null,
   "id": "777f5b41",
   "metadata": {},
   "outputs": [
    {
     "name": "stdout",
     "output_type": "stream",
     "text": [
      "a == b: True\n",
      "a != b: False\n",
      "a > b: False\n",
      "a < b: False\n",
      "a >= b: True\n",
      "a <= b: True\n"
     ]
    }
   ],
   "source": [
    "print(\"a == b:\", a == b) # True\n",
    "print(\"a != b:\", a != b) # False\n",
    "print(\"a > b:\", a > b)   # False\n",
    "print(\"a < b:\", a < b)   # False\n",
    "print(\"a >= b:\", a >= b) # True\n",
    "print(\"a <= b:\", a <= b) # True"
   ]
  },
  {
   "cell_type": "markdown",
   "id": "4770b6e1",
   "metadata": {},
   "source": [
    "Checking String values"
   ]
  },
  {
   "cell_type": "code",
   "execution_count": null,
   "id": "9dea4c22",
   "metadata": {},
   "outputs": [
    {
     "name": "stdout",
     "output_type": "stream",
     "text": [
      "a == b: True\n",
      "a != b: False\n",
      "a > b: False\n",
      "a < b: False\n",
      "a >= b: True\n",
      "a <= b: True\n"
     ]
    }
   ],
   "source": [
    "# This can somewhat apply to strings too.\n",
    "\n",
    "a: str = \"hello\"\n",
    "b: str = \"hello\"\n",
    "\n",
    "print(\"a == b:\", a == b) # True\n",
    "print(\"a != b:\", a != b) # False\n",
    "print(\"a > b:\", a > b)   # False\n",
    "print(\"a < b:\", a < b)   # False\n",
    "print(\"a >= b:\", a >= b) # True\n",
    "print(\"a <= b:\", a <= b) # True"
   ]
  },
  {
   "cell_type": "markdown",
   "id": "b4d3faea",
   "metadata": {},
   "source": [
    "It's important to note that comparison is checking the value not the memory address"
   ]
  },
  {
   "cell_type": "code",
   "execution_count": null,
   "id": "3d58c267",
   "metadata": {},
   "outputs": [
    {
     "name": "stdout",
     "output_type": "stream",
     "text": [
      "True\n",
      "False\n"
     ]
    }
   ],
   "source": [
    "a: list[int] = [1, 2, 3]\n",
    "b: list[int] = [1, 2, 3]\n",
    "\n",
    "print(a == b)   # True → values are equal\n",
    "print(a is b)   # False → different memory addresses\n"
   ]
  },
  {
   "cell_type": "code",
   "execution_count": 15,
   "id": "e29ef028",
   "metadata": {},
   "outputs": [
    {
     "name": "stdout",
     "output_type": "stream",
     "text": [
      "a == b: True\n",
      "a is b True\n"
     ]
    }
   ],
   "source": [
    "a: str = \"hello\"\n",
    "b: str = \"hello\"\n",
    "\n",
    "print(\"a == b:\", a == b)\n",
    "print(\"a is b\", a is b)\n",
    "\n",
    "# These are both True because of backend Python optimization"
   ]
  },
  {
   "cell_type": "markdown",
   "id": "f530377b",
   "metadata": {},
   "source": [
    "### Logical Operators"
   ]
  },
  {
   "cell_type": "code",
   "execution_count": 20,
   "id": "a14fa68d",
   "metadata": {},
   "outputs": [],
   "source": [
    "a: int = 5\n",
    "b: int = 5"
   ]
  },
  {
   "cell_type": "code",
   "execution_count": 22,
   "id": "97ae534d",
   "metadata": {},
   "outputs": [
    {
     "data": {
      "text/plain": [
       "True"
      ]
     },
     "execution_count": 22,
     "metadata": {},
     "output_type": "execute_result"
    }
   ],
   "source": [
    "a is b # True due to optimization"
   ]
  },
  {
   "cell_type": "code",
   "execution_count": 24,
   "id": "fcd58f16",
   "metadata": {},
   "outputs": [
    {
     "name": "stdout",
     "output_type": "stream",
     "text": [
      "False\n"
     ]
    }
   ],
   "source": [
    "a: int = 50_000_000\n",
    "b: int = 50_000_000\n",
    "print(a is b) # False as optimization no longer applied"
   ]
  },
  {
   "cell_type": "code",
   "execution_count": 26,
   "id": "6e7361a8",
   "metadata": {},
   "outputs": [
    {
     "name": "stdout",
     "output_type": "stream",
     "text": [
      "Allowed entry\n"
     ]
    }
   ],
   "source": [
    "age: int = 20\n",
    "has_id: bool = True\n",
    "\n",
    "if age >= 18 and has_id:\n",
    "    print(\"Allowed entry\")\n"
   ]
  },
  {
   "cell_type": "code",
   "execution_count": 28,
   "id": "a62831c7",
   "metadata": {},
   "outputs": [
    {
     "name": "stdout",
     "output_type": "stream",
     "text": [
      "Guest\n"
     ]
    }
   ],
   "source": [
    "user_input: str = \"\"\n",
    "name: str = user_input or \"Guest\" # Default value\n",
    "print(name)  # → \"Guest\"\n"
   ]
  },
  {
   "cell_type": "code",
   "execution_count": 32,
   "id": "52a900ca",
   "metadata": {},
   "outputs": [
    {
     "name": "stdout",
     "output_type": "stream",
     "text": [
      "Please log in\n"
     ]
    }
   ],
   "source": [
    "logged_in: bool = False\n",
    "if not logged_in:\n",
    "    print(\"Please log in\")"
   ]
  },
  {
   "cell_type": "code",
   "execution_count": null,
   "id": "704c2ac4",
   "metadata": {},
   "outputs": [
    {
     "name": "stdout",
     "output_type": "stream",
     "text": [
      "Excellent\n"
     ]
    }
   ],
   "source": [
    "score: int = 85\n",
    "if 80 <= score <= 100:\n",
    "    print(\"Excellent\")"
   ]
  }
 ],
 "metadata": {
  "kernelspec": {
   "display_name": "base",
   "language": "python",
   "name": "python3"
  },
  "language_info": {
   "codemirror_mode": {
    "name": "ipython",
    "version": 3
   },
   "file_extension": ".py",
   "mimetype": "text/x-python",
   "name": "python",
   "nbconvert_exporter": "python",
   "pygments_lexer": "ipython3",
   "version": "3.12.8"
  }
 },
 "nbformat": 4,
 "nbformat_minor": 5
}
