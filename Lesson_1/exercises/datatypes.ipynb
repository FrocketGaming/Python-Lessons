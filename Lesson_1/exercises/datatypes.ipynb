{
 "cells": [
  {
   "cell_type": "markdown",
   "id": "b3c1f7e0",
   "metadata": {},
   "source": [
    "# 🏋️ Python Data Types Practice Exercises\n",
    "\n",
    "These exercises will help you practice working with different Python data types. Complete each section to build your understanding!\n",
    "\n",
    "## 🔤 String Exercises\n",
    "\n",
    "### Exercise 1: Creating String Data Types"
   ]
  },
  {
   "cell_type": "code",
   "execution_count": 1,
   "id": "3f2e2453",
   "metadata": {},
   "outputs": [],
   "source": [
    "# Uncomment the below variables and add string values to print them out!\n",
    "#my_name: str = \n",
    "#my_age: str =\n",
    "#my_city: str =\n",
    "#my_occupation: str =\n",
    "\n",
    "#print(my_name, my_age, my_city, my_occupation)"
   ]
  },
  {
   "cell_type": "code",
   "execution_count": null,
   "id": "3ac8686d",
   "metadata": {},
   "outputs": [],
   "source": [
    "# Uncomment and add the variables in the appropriate order to print the string below\n",
    "# Goal: \"John is 25 years old, lives in New York, and is a teacher.\"\n",
    "#print(f\"{} is {} years old, lives in {}, and is a {}.\")"
   ]
  },
  {
   "cell_type": "markdown",
   "id": "kyf6ma20g5",
   "metadata": {},
   "source": [
    "### Exercise 2: String Methods Practice\n",
    "Use string methods to clean and format text data."
   ]
  },
  {
   "cell_type": "code",
   "execution_count": null,
   "id": "23b8yshk2y4",
   "metadata": {},
   "outputs": [],
   "source": [
    "# Given messy data - clean it up!\n",
    "user_input = \"  HELLO world! this is PYTHON programming  \"\n",
    "\n",
    "# TODO: Remove extra spaces from beginning and end\n",
    "cleaned_text = user_input  # Replace this line\n",
    "\n",
    "# TODO: Make it proper title case (first letter of each word capitalized)\n",
    "title_text = cleaned_text  # Replace this line\n",
    "\n",
    "# TODO: Replace \"PYTHON\" with \"Python\" \n",
    "final_text = title_text  # Replace this line\n",
    "\n",
    "print(f\"Original: '{user_input}'\")\n",
    "print(f\"Final: '{final_text}'\")"
   ]
  },
  {
   "cell_type": "markdown",
   "id": "bztc6qj77li",
   "metadata": {},
   "source": [
    "### Exercise 3: Multi-line Strings and Email Parser\n",
    "Practice working with multi-line strings and extracting information."
   ]
  },
  {
   "cell_type": "code",
   "execution_count": null,
   "id": "fe37a58a",
   "metadata": {},
   "outputs": [],
   "source": [
    "# TODO: Create a multi-line string with your favorite poem or quote\n",
    "poem = \"\"\"\n",
    "Write your favorite\n",
    "poem or quote here\n",
    "using triple quotes\n",
    "\"\"\"\n",
    "\n",
    "print(\"My favorite poem/quote:\")\n",
    "print(poem)"
   ]
  },
  {
   "cell_type": "code",
   "execution_count": null,
   "id": "7455a7sv2ft",
   "metadata": {},
   "outputs": [],
   "source": [
    "# TODO: Extract username and domain from email address\n",
    "email_address = \"student.name@university.edu\"\n",
    "\n",
    "# Hint: Use the split() method with \"@\" as the separator\n",
    "# username = ?\n",
    "# domain = ?\n",
    "\n",
    "print(f\"Username: {username}\")\n",
    "print(f\"Domain: {domain}\")"
   ]
  },
  {
   "cell_type": "markdown",
   "id": "8h7uk92hbqb",
   "metadata": {},
   "source": [
    "## 🔢 Number Exercises (Integers and Floats)\n",
    "\n",
    "### Exercise 4: Basic Arithmetic and Age Calculator"
   ]
  },
  {
   "cell_type": "code",
   "execution_count": null,
   "id": "22f0ba75",
   "metadata": {},
   "outputs": [],
   "source": [
    "# TODO: Create an age calculator\n",
    "birth_year = 2000  # Change this to your birth year\n",
    "current_year = 2025\n",
    "\n",
    "# Calculate your age\n",
    "age = current_year - birth_year\n",
    "\n",
    "print(f\"If you were born in {birth_year}, you would be {age} years old in {current_year}\")"
   ]
  },
  {
   "cell_type": "code",
   "execution_count": null,
   "id": "gaexo76j0sp",
   "metadata": {},
   "outputs": [],
   "source": [
    "# TODO: Calculate your age in different time units\n",
    "age_in_months = age * 12\n",
    "age_in_days = age * 365  # Approximate, not accounting for leap years\n",
    "age_in_hours = age_in_days * 24\n",
    "\n",
    "print(f\"That's approximately:\")\n",
    "print(f\"  {age_in_months} months\")\n",
    "print(f\"  {age_in_days} days\") \n",
    "print(f\"  {age_in_hours} hours\")"
   ]
  },
  {
   "cell_type": "markdown",
   "id": "uvmjfo1ghb",
   "metadata": {},
   "source": [
    "### Exercise 5: Working with Floats - Restaurant Bill Calculator"
   ]
  },
  {
   "cell_type": "code",
   "execution_count": null,
   "id": "5jgxd5hdd86",
   "metadata": {},
   "outputs": [],
   "source": [
    "# Restaurant bill calculator\n",
    "meal_cost = 45.50\n",
    "tax_rate = 0.08  # 8% tax\n",
    "tip_rate = 0.18  # 18% tip\n",
    "\n",
    "# TODO: Calculate tax amount (meal_cost * tax_rate)\n",
    "tax_amount = # Your code here\n",
    "\n",
    "# TODO: Calculate tip amount (tip on the meal cost, not including tax)\n",
    "tip_amount = # Your code here\n",
    "\n",
    "# TODO: Calculate total bill\n",
    "total_bill = # Your code here\n",
    "\n",
    "print(f\"Meal cost: ${meal_cost:.2f}\")\n",
    "print(f\"Tax (8%): ${tax_amount:.2f}\")\n",
    "print(f\"Tip (18%): ${tip_amount:.2f}\")\n",
    "print(f\"Total bill: ${total_bill:.2f}\")\n",
    "\n",
    "# TODO: If splitting between 4 people, how much does each person pay?\n",
    "people = 4\n",
    "cost_per_person = # Your code here\n",
    "print(f\"Cost per person (4 people): ${cost_per_person:.2f}\")"
   ]
  },
  {
   "cell_type": "markdown",
   "id": "4odehuu8q2k",
   "metadata": {},
   "source": [
    "### Exercise 6: Type Conversion Practice"
   ]
  },
  {
   "cell_type": "code",
   "execution_count": null,
   "id": "wn3gi2vlcug",
   "metadata": {},
   "outputs": [],
   "source": [
    "# Practice converting between different number types\n",
    "temperature_str = \"75.5\"  # String representation of temperature\n",
    "count_float = 10.0        # Float that represents a count\n",
    "price_int = 25           # Integer price in dollars\n",
    "\n",
    "# TODO: Convert temperature_str to a float\n",
    "temperature_float = # Your code here\n",
    "\n",
    "# TODO: Convert count_float to an integer  \n",
    "count_int = # Your code here\n",
    "\n",
    "# TODO: Convert price_int to a float\n",
    "price_float = # Your code here\n",
    "\n",
    "print(f\"Temperature as float: {temperature_float} (type: {type(temperature_float)})\")\n",
    "print(f\"Count as integer: {count_int} (type: {type(count_int)})\")\n",
    "print(f\"Price as float: {price_float} (type: {type(price_float)})\")\n",
    "\n",
    "# TODO: What happens when you convert a float with decimals to int?\n",
    "test_float = 3.9\n",
    "test_int = int(test_float)\n",
    "print(f\"Converting 3.9 to int gives: {test_int}\")"
   ]
  },
  {
   "cell_type": "markdown",
   "id": "7b54rgv8yx",
   "metadata": {},
   "source": [
    "## ✅ Boolean Exercises\n",
    "\n",
    "### Exercise 7: Comparison Operations"
   ]
  },
  {
   "cell_type": "code",
   "execution_count": null,
   "id": "cf05175a",
   "metadata": {},
   "outputs": [],
   "source": [
    "# Practice with boolean comparisons\n",
    "my_age = 22\n",
    "legal_drinking_age = 21\n",
    "legal_voting_age = 18\n",
    "senior_discount_age = 65\n",
    "\n",
    "# TODO: Create boolean variables for different eligibility checks\n",
    "can_vote = # Your code here (compare my_age with legal_voting_age)\n",
    "can_drink = # Your code here  \n",
    "qualifies_for_senior_discount = # Your code here\n",
    "\n",
    "print(f\"Age: {my_age}\")\n",
    "print(f\"Can vote: {can_vote}\")\n",
    "print(f\"Can drink: {can_drink}\")\n",
    "print(f\"Qualifies for senior discount: {qualifies_for_senior_discount}\")"
   ]
  },
  {
   "cell_type": "code",
   "execution_count": null,
   "id": "cieikcl6z4l",
   "metadata": {},
   "outputs": [],
   "source": [
    "# TODO: Practice with other comparison operators\n",
    "x = 10\n",
    "y = 10 # Make this different from x\n",
    "print(f\"{x} == {y}: {x == y}\")\n",
    "print(f\"{x} != {y}: {x != y}\")\n",
    "print(f\"{x} < {y}: {x < y}\")\n",
    "print(f\"{x} > {y}: {x > y}\")\n",
    "print(f\"{x} <= {y}: {x <= y}\")\n",
    "print(f\"{x} >= {y}: {x >= y}\")"
   ]
  },
  {
   "cell_type": "markdown",
   "id": "9lsdh17gmjp",
   "metadata": {},
   "source": [
    "### Exercise 8: Logical Operations and Truthiness"
   ]
  },
  {
   "cell_type": "code",
   "execution_count": null,
   "id": "d89afd6b",
   "metadata": {},
   "outputs": [],
   "source": [
    "# Practice with logical operators (and, or, not)\n",
    "has_ticket = True\n",
    "has_id = False\n",
    "is_vip = True\n",
    "\n",
    "# TODO: Complete these logical expressions\n",
    "can_enter_event = has_ticket  # Should be True only if has both ticket AND id\n",
    "gets_special_access = # Should be True if is VIP OR has both ticket and ID\n",
    "needs_to_buy_ticket = # Should be True if does NOT have a ticket\n",
    "\n",
    "print(f\"Has ticket: {has_ticket}\")\n",
    "print(f\"Has ID: {has_id}\")\n",
    "print(f\"Is VIP: {is_vip}\")\n",
    "print(f\"Can enter event: {can_enter_event}\")\n",
    "print(f\"Gets special access: {gets_special_access}\")\n",
    "print(f\"Needs to buy ticket: {needs_to_buy_ticket}\")"
   ]
  },
  {
   "cell_type": "code",
   "execution_count": 1,
   "id": "zb43lage1he",
   "metadata": {},
   "outputs": [
    {
     "name": "stdout",
     "output_type": "stream",
     "text": [
      "\n",
      "--- Truthiness of different values ---\n",
      "0 is falsy\n",
      "1 is truthy\n",
      "'' is falsy\n",
      "'hello' is truthy\n",
      "[] is falsy\n",
      "[1, 2, 3] is truthy\n",
      "None is falsy\n",
      "True is truthy\n",
      "False is falsy\n"
     ]
    }
   ],
   "source": [
    "print(\"\\n--- Truthiness of different values ---\")\n",
    "# TODO: Test what values are \"truthy\" or \"falsy\"\n",
    "values_to_test = [0, 1, \"\", \"hello\", [], [1, 2, 3], None, True, False]\n",
    "\n",
    "for value in values_to_test:\n",
    "    print(f\"{repr(value)} is {'truthy' if bool(value) else 'falsy'}\")"
   ]
  },
  {
   "cell_type": "markdown",
   "id": "n5c6bjft9e",
   "metadata": {},
   "source": [
    "## 📝 List Exercises\n",
    "\n",
    "### Exercise 9: Creating and Modifying Lists"
   ]
  },
  {
   "cell_type": "code",
   "execution_count": null,
   "id": "isyu0u3v5tr",
   "metadata": {},
   "outputs": [],
   "source": [
    "# TODO: Create a shopping list with at least 5 items\n",
    "shopping_list = # Your list here\n",
    "\n",
    "print(\"Original shopping list:\", shopping_list)\n",
    "\n",
    "# TODO: Add two more items to your list using append()\n",
    "shopping_list.append(\"milk\")\n",
    "# Add one more item\n",
    "\n",
    "# TODO: Insert \"bread\" at the beginning of the list (index 0)\n",
    "# Your code here\n",
    "\n",
    "# TODO: Remove an item from the list using remove()\n",
    "# Your code here\n",
    "\n",
    "print(\"Modified shopping list:\", shopping_list)\n",
    "print(f\"Number of items: {len(shopping_list)}\")\n",
    "\n",
    "# TODO: Access and print the first and last items\n",
    "first_item = # Your code here\n",
    "last_item = # Your code here\n",
    "print(f\"First item: {first_item}\")\n",
    "print(f\"Last item: {last_item}\")\n",
    "\n",
    "# TODO: Create a slice of the list (items 2 through 4)\n",
    "middle_items = # Your code here\n",
    "print(f\"Middle items: {middle_items}\")"
   ]
  },
  {
   "cell_type": "markdown",
   "id": "t86lmi7kf5",
   "metadata": {},
   "source": [
    "### Exercise 10: Working with Nested Lists"
   ]
  },
  {
   "cell_type": "code",
   "execution_count": null,
   "id": "97v0rdkw7q6",
   "metadata": {},
   "outputs": [],
   "source": [
    "# TODO: Create a grade book - list of lists where each inner list contains [student_name, grade]\n",
    "grade_book = [\n",
    "    [\"Alice\", 85],\n",
    "    [\"Bob\", 92],\n",
    "    [\"Charlie\", 78]\n",
    "]\n",
    "\n",
    "print(\"Grade book:\", grade_book)\n",
    "\n",
    "# TODO: Add a new student with their grade\n",
    "# Your code here\n",
    "\n",
    "# TODO: Access and print Bob's grade (hint: it's at index [1][1])\n",
    "bobs_grade = # Your code here\n",
    "print(f\"Bob's grade: {bobs_grade}\")\n",
    "\n",
    "# TODO: Change Charlie's grade to 82\n",
    "# Your code here\n",
    "\n",
    "# TODO: Calculate the average grade\n",
    "total_grades = 0\n",
    "for student_record in grade_book:\n",
    "    grade = student_record[1]  # Grade is at index 1\n",
    "    total_grades += grade\n",
    "\n",
    "average_grade = total_grades / len(grade_book)\n",
    "print(f\"Average grade: {average_grade:.1f}\")\n",
    "\n",
    "print(\"Final grade book:\", grade_book)"
   ]
  },
  {
   "cell_type": "markdown",
   "id": "r16qlklrkyg",
   "metadata": {},
   "source": [
    "## 🔒 Tuple Exercises\n",
    "\n",
    "### Exercise 11: Understanding Immutability"
   ]
  },
  {
   "cell_type": "code",
   "execution_count": null,
   "id": "thsursaglm",
   "metadata": {},
   "outputs": [],
   "source": [
    "# TODO: Create a tuple with RGB color values (red, green, blue)\n",
    "red_color = # Your tuple here (e.g., values between 0-255)\n",
    "\n",
    "print(f\"Red color RGB: {red_color}\")\n",
    "print(f\"Type: {type(red_color)}\")\n",
    "\n",
    "# TODO: Access individual color values\n",
    "red_value = # Your code here\n",
    "green_value = # Your code here  \n",
    "blue_value = # Your code here\n",
    "\n",
    "print(f\"Red: {red_value}, Green: {green_value}, Blue: {blue_value}\")\n",
    "\n",
    "# TODO: Try to create a new tuple by \"adding\" to the existing one\n",
    "blue_color = (0, 0, 255)\n",
    "purple_color = # Create a new tuple by combining red and blue somehow\n",
    "\n",
    "print(f\"Blue color: {blue_color}\")\n",
    "print(f\"Purple color: {purple_color}\")\n",
    "\n",
    "# TODO: Create a tuple with coordinates (x, y, z) for a 3D point\n",
    "point_3d = # Your code here\n",
    "\n",
    "# TODO: Use tuple unpacking to assign x, y, z to separate variables\n",
    "x, y, z = point_3d  # This is tuple unpacking!\n",
    "print(f\"Point coordinates: x={x}, y={y}, z={z}\")"
   ]
  },
  {
   "cell_type": "markdown",
   "id": "138br1u3bz3h",
   "metadata": {},
   "source": [
    "### Exercise 12: Tuple vs List Comparison"
   ]
  },
  {
   "cell_type": "code",
   "execution_count": null,
   "id": "0k6jbfepaump",
   "metadata": {},
   "outputs": [],
   "source": [
    "# Compare tuple and list behavior\n",
    "my_list = [1, 2, 3]\n",
    "my_tuple = (1, 2, 3)\n",
    "\n",
    "print(\"Original list:\", my_list, \"ID:\", id(my_list))\n",
    "print(\"Original tuple:\", my_tuple, \"ID:\", id(my_tuple))\n",
    "\n",
    "# TODO: Try to modify the list\n",
    "my_list.append(4)\n",
    "print(\"Modified list:\", my_list, \"ID:\", id(my_list))\n",
    "\n",
    "# TODO: Try to \"modify\" the tuple (create a new one)\n",
    "# Uncomment the line below and see what happens:\n",
    "# my_tuple.append(4)  # This will cause an error!\n",
    "\n",
    "# Instead, create a new tuple\n",
    "new_tuple = my_tuple + (4,)\n",
    "print(\"New tuple:\", new_tuple, \"ID:\", id(new_tuple))\n",
    "print(\"Original tuple unchanged:\", my_tuple, \"ID:\", id(my_tuple))\n",
    "\n",
    "# TODO: When would you use a tuple vs a list?\n",
    "# List: When you need to _________ the data\n",
    "# Tuple: When you want ________ data that won't change\n",
    "\n",
    "print(\"\\nTuple methods available:\")\n",
    "print([method for method in dir(my_tuple) if not method.startswith('_')])"
   ]
  },
  {
   "cell_type": "markdown",
   "id": "186ht9n8psd",
   "metadata": {},
   "source": [
    "## 📚 Dictionary Exercises\n",
    "\n",
    "### Exercise 13: Student Information System"
   ]
  },
  {
   "cell_type": "code",
   "execution_count": null,
   "id": "ldsuasedg1q",
   "metadata": {},
   "outputs": [],
   "source": [
    "# TODO: Create a dictionary representing a student\n",
    "student = {\n",
    "    \"name\": \"Your Name\",\n",
    "    \"age\": 20,\n",
    "    \"major\": \"Computer Science\",\n",
    "    \"gpa\": 3.5,\n",
    "    \"courses\": [\"Math 101\", \"CS 101\", \"Physics 101\"]\n",
    "}\n",
    "\n",
    "print(\"Student info:\", student)\n",
    "\n",
    "# TODO: Access and print individual values\n",
    "student_name = # Your code here\n",
    "student_courses = # Your code here\n",
    "\n",
    "print(f\"Student name: {student_name}\")\n",
    "print(f\"Courses: {student_courses}\")\n",
    "\n",
    "# TODO: Add a new key-value pair for \"graduation_year\"\n",
    "# Your code here\n",
    "\n",
    "# TODO: Update the GPA to 3.7\n",
    "# Your code here\n",
    "\n",
    "# TODO: Add a new course to the courses list\n",
    "student[\"courses\"].append(\"Chemistry 101\")\n",
    "\n",
    "print(\"\\nUpdated student info:\")\n",
    "for key, value in student.items():\n",
    "    print(f\"{key}: {value}\")\n",
    "\n",
    "# TODO: Check if a key exists in the dictionary\n",
    "if \"email\" in student:\n",
    "    print(f\"Email: {student['email']}\")\n",
    "else:\n",
    "    print(\"Email not found\")"
   ]
  },
  {
   "cell_type": "markdown",
   "id": "2vtj8dsijg6",
   "metadata": {},
   "source": [
    "### Exercise 14: Contact Book"
   ]
  },
  {
   "cell_type": "code",
   "execution_count": null,
   "id": "x9z4gr244km",
   "metadata": {},
   "outputs": [],
   "source": [
    "# TODO: Create a contact book using nested dictionaries\n",
    "contact_book = {\n",
    "    \"Alice\": {\n",
    "        \"phone\": \"123-456-7890\",\n",
    "        \"email\": \"alice@email.com\",\n",
    "        \"city\": \"New York\"\n",
    "    },\n",
    "    \"Bob\": {\n",
    "        \"phone\": \"987-654-3210\", \n",
    "        \"email\": \"bob@email.com\",\n",
    "        \"city\": \"Los Angeles\"\n",
    "    }\n",
    "}\n",
    "\n",
    "print(\"Contact book:\", contact_book)\n",
    "\n",
    "# TODO: Add a new contact\n",
    "contact_book[\"Charlie\"] = # Your dictionary here\n",
    "\n",
    "# TODO: Access Alice's phone number\n",
    "alice_phone = # Your code here\n",
    "print(f\"Alice's phone: {alice_phone}\")\n",
    "\n",
    "# TODO: Update Bob's city to \"San Francisco\"\n",
    "# Your code here\n",
    "\n",
    "# TODO: Get all contact names (keys)\n",
    "contact_names = # Your code here\n",
    "print(f\"All contacts: {list(contact_names)}\")\n",
    "\n",
    "# TODO: Create a function to display contact info nicely\n",
    "def display_contact(name):\n",
    "    if name in contact_book:\n",
    "        info = contact_book[name]\n",
    "        print(f\"\\n--- {name} ---\")\n",
    "        print(f\"Phone: {info['phone']}\")\n",
    "        print(f\"Email: {info['email']}\")\n",
    "        print(f\"City: {info['city']}\")\n",
    "    else:\n",
    "        print(f\"Contact {name} not found\")\n",
    "\n",
    "# Test the function\n",
    "display_contact(\"Alice\")\n",
    "display_contact(\"David\")  # This one doesn't exist"
   ]
  },
  {
   "cell_type": "markdown",
   "id": "6yzg7pummo7",
   "metadata": {},
   "source": [
    "### Exercise 15: Challenge - Data Type Mix"
   ]
  },
  {
   "cell_type": "code",
   "execution_count": null,
   "id": "bvuptd37t2t",
   "metadata": {},
   "outputs": [],
   "source": [
    "# CHALLENGE: Create a complex data structure mixing all data types\n",
    "# Create a library system with books, authors, and borrowers\n",
    "\n",
    "library = {\n",
    "    \"name\": \"City Public Library\",\n",
    "    \"established\": 1950,\n",
    "    \"is_open\": True,\n",
    "    \"books\": [\n",
    "        {\n",
    "            \"title\": \"Python Programming\",\n",
    "            \"author\": \"John Smith\", \n",
    "            \"isbn\": \"978-0123456789\",\n",
    "            \"available\": True,\n",
    "            \"pages\": 450,\n",
    "            \"genres\": (\"Programming\", \"Technology\", \"Education\"),\n",
    "            \"ratings\": [4.5, 4.8, 4.2, 4.9]\n",
    "        },\n",
    "        {\n",
    "            \"title\": \"Data Science Basics\",\n",
    "            \"author\": \"Jane Doe\",\n",
    "            \"isbn\": \"978-9876543210\", \n",
    "            \"available\": False,\n",
    "            \"pages\": 320,\n",
    "            \"genres\": (\"Data Science\", \"Technology\", \"Statistics\"),\n",
    "            \"ratings\": [4.1, 4.6, 4.3]\n",
    "        }\n",
    "    ],\n",
    "    \"borrowers\": {\n",
    "        \"member_001\": {\n",
    "            \"name\": \"Alice Johnson\",\n",
    "            \"borrowed_books\": [\"978-9876543210\"],\n",
    "            \"member_since\": 2020\n",
    "        }\n",
    "    }\n",
    "}\n",
    "\n",
    "print(\"Library system created!\")\n",
    "\n",
    "# TODO: Add analysis questions for students to answer:\n",
    "\n",
    "# 1. What data types are used for each field? List them:\n",
    "print(\"1. Data types analysis:\")\n",
    "print(f\"   - Library name: {type(library['name'])}\")\n",
    "print(f\"   - Established year: {type(library['established'])}\")\n",
    "# Continue for other fields...\n",
    "\n",
    "# 2. Calculate average rating for first book\n",
    "first_book_ratings = library[\"books\"][0][\"ratings\"]\n",
    "average_rating = # Your calculation here\n",
    "print(f\"\\n2. Average rating for '{library['books'][0]['title']}': {average_rating:.2f}\")\n",
    "\n",
    "# 3. Check if library is open and has available books\n",
    "is_open = library[\"is_open\"]\n",
    "available_books_count = 0\n",
    "for book in library[\"books\"]:\n",
    "    if book[\"available\"]:\n",
    "        available_books_count += 1\n",
    "\n",
    "can_borrow = is_open and available_books_count > 0\n",
    "print(f\"\\n3. Can borrow books today: {can_borrow}\")\n",
    "print(f\"   (Library open: {is_open}, Available books: {available_books_count})\")\n",
    "\n",
    "# 4. TODO: Add yourself as a new borrower\n",
    "# Your code here"
   ]
  },
  {
   "cell_type": "markdown",
   "id": "q9jjl5djeg",
   "metadata": {},
   "source": [
    "## 🎉 Congratulations!\n",
    "\n",
    "You've completed the Python data types exercises! You've practiced working with:\n",
    "\n",
    "- **Strings** - Text data and string manipulation\n",
    "- **Integers & Floats** - Numeric data and calculations  \n",
    "- **Booleans** - True/False values and logical operations\n",
    "- **Lists** - Ordered, mutable collections\n",
    "- **Tuples** - Ordered, immutable collections\n",
    "- **Dictionaries** - Key-value pairs for structured data\n",
    "\n",
    "### Next Steps:\n",
    "1. Review any exercises you found challenging\n",
    "2. Try creating your own variations of these exercises\n",
    "3. Move on to the next lesson about operators and control flow\n",
    "\n",
    "### Key Takeaways:\n",
    "- Choose the right data type for your specific use case\n",
    "- Lists are mutable, tuples are immutable\n",
    "- Dictionaries are perfect for structured data with key-value relationships\n",
    "- Practice with real-world examples helps solidify understanding\n",
    "\n",
    "Happy coding! 🐍"
   ]
  }
 ],
 "metadata": {
  "kernelspec": {
   "display_name": "Python 3",
   "language": "python",
   "name": "python3"
  },
  "language_info": {
   "codemirror_mode": {
    "name": "ipython",
    "version": 3
   },
   "file_extension": ".py",
   "mimetype": "text/x-python",
   "name": "python",
   "nbconvert_exporter": "python",
   "pygments_lexer": "ipython3",
   "version": "3.12.3"
  }
 },
 "nbformat": 4,
 "nbformat_minor": 5
}
