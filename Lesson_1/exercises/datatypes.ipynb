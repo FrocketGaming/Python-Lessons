{
 "cells": [
  {
   "cell_type": "code",
   "execution_count": null,
   "id": "b3c1f7e0",
   "metadata": {},
   "outputs": [],
   "source": "# 🏋️ Python Data Types Practice Exercises\n\nThese exercises will help you practice working with different Python data types. Complete each section to build your understanding!\n\n## 🔤 String Exercises\n\n### Exercise 1: Creating String Data Types"
  },
  {
   "cell_type": "code",
   "execution_count": 1,
   "id": "3f2e2453",
   "metadata": {},
   "outputs": [],
   "source": [
    "# Uncomment the below variables and add string values to print them out!\n",
    "#my_name: str = \n",
    "#my_age: str =\n",
    "#my_city: str =\n",
    "#my_occupation: str =\n",
    "\n",
    "#print(my_name, my_age, my_city, my_occupation)"
   ]
  },
  {
   "cell_type": "code",
   "execution_count": null,
   "id": "3ac8686d",
   "metadata": {},
   "outputs": [],
   "source": "# Uncomment and add the variables in the appropriate order to print the string below\n# Goal: \"John is 25 years old, lives in New York, and is a teacher.\"\n#print(f\"{} is {} years old, lives in {}, and is a {}.\")"
  },
  {
   "cell_type": "markdown",
   "id": "kyf6ma20g5",
   "source": "### Exercise 2: String Methods Practice\nUse string methods to clean and format text data.",
   "metadata": {}
  },
  {
   "cell_type": "code",
   "id": "23b8yshk2y4",
   "source": "# Given messy data - clean it up!\nuser_input = \"  HELLO world! this is PYTHON programming  \"\n\n# TODO: Remove extra spaces from beginning and end\ncleaned_text = user_input  # Replace this line\n\n# TODO: Make it proper title case (first letter of each word capitalized)\ntitle_text = cleaned_text  # Replace this line\n\n# TODO: Replace \"PYTHON\" with \"Python\" \nfinal_text = title_text  # Replace this line\n\nprint(f\"Original: '{user_input}'\")\nprint(f\"Final: '{final_text}'\")",
   "metadata": {},
   "execution_count": null,
   "outputs": []
  },
  {
   "cell_type": "markdown",
   "id": "bztc6qj77li",
   "source": "### Exercise 3: Multi-line Strings and Email Parser\nPractice working with multi-line strings and extracting information.",
   "metadata": {}
  },
  {
   "cell_type": "code",
   "id": "7455a7sv2ft",
   "source": "# TODO: Create a multi-line string with your favorite poem or quote\npoem = \"\"\"\nWrite your favorite\npoem or quote here\nusing triple quotes\n\"\"\"\n\nprint(\"My favorite poem/quote:\")\nprint(poem)\n\n# TODO: Extract username and domain from email address\nemail_address = \"student.name@university.edu\"\n\n# Hint: Use the split() method with \"@\" as the separator\n# username = ?\n# domain = ?\n\nprint(f\"Username: {username}\")\nprint(f\"Domain: {domain}\")",
   "metadata": {},
   "execution_count": null,
   "outputs": []
  },
  {
   "cell_type": "markdown",
   "id": "8h7uk92hbqb",
   "source": "## 🔢 Number Exercises (Integers and Floats)\n\n### Exercise 4: Basic Arithmetic and Age Calculator",
   "metadata": {}
  },
  {
   "cell_type": "code",
   "id": "gaexo76j0sp",
   "source": "# TODO: Create an age calculator\nbirth_year = 2000  # Change this to your birth year\ncurrent_year = 2025\n\n# Calculate your age\nage = current_year - birth_year\n\nprint(f\"If you were born in {birth_year}, you would be {age} years old in {current_year}\")\n\n# TODO: Calculate your age in different time units\nage_in_months = age * 12\nage_in_days = age * 365  # Approximate, not accounting for leap years\nage_in_hours = age_in_days * 24\n\nprint(f\"That's approximately:\")\nprint(f\"  {age_in_months} months\")\nprint(f\"  {age_in_days} days\") \nprint(f\"  {age_in_hours} hours\")",
   "metadata": {},
   "execution_count": null,
   "outputs": []
  },
  {
   "cell_type": "markdown",
   "id": "uvmjfo1ghb",
   "source": "### Exercise 5: Working with Floats - Restaurant Bill Calculator",
   "metadata": {}
  },
  {
   "cell_type": "code",
   "id": "5jgxd5hdd86",
   "source": "# Restaurant bill calculator\nmeal_cost = 45.50\ntax_rate = 0.08  # 8% tax\ntip_rate = 0.18  # 18% tip\n\n# TODO: Calculate tax amount (meal_cost * tax_rate)\ntax_amount = # Your code here\n\n# TODO: Calculate tip amount (tip on the meal cost, not including tax)\ntip_amount = # Your code here\n\n# TODO: Calculate total bill\ntotal_bill = # Your code here\n\nprint(f\"Meal cost: ${meal_cost:.2f}\")\nprint(f\"Tax (8%): ${tax_amount:.2f}\")\nprint(f\"Tip (18%): ${tip_amount:.2f}\")\nprint(f\"Total bill: ${total_bill:.2f}\")\n\n# TODO: If splitting between 4 people, how much does each person pay?\npeople = 4\ncost_per_person = # Your code here\nprint(f\"Cost per person (4 people): ${cost_per_person:.2f}\")",
   "metadata": {},
   "execution_count": null,
   "outputs": []
  },
  {
   "cell_type": "markdown",
   "id": "4odehuu8q2k",
   "source": "### Exercise 6: Type Conversion Practice",
   "metadata": {}
  },
  {
   "cell_type": "code",
   "id": "wn3gi2vlcug",
   "source": "# Practice converting between different number types\ntemperature_str = \"75.5\"  # String representation of temperature\ncount_float = 10.0        # Float that represents a count\nprice_int = 25           # Integer price in dollars\n\n# TODO: Convert temperature_str to a float\ntemperature_float = # Your code here\n\n# TODO: Convert count_float to an integer  \ncount_int = # Your code here\n\n# TODO: Convert price_int to a float\nprice_float = # Your code here\n\nprint(f\"Temperature as float: {temperature_float} (type: {type(temperature_float)})\")\nprint(f\"Count as integer: {count_int} (type: {type(count_int)})\")\nprint(f\"Price as float: {price_float} (type: {type(price_float)})\")\n\n# TODO: What happens when you convert a float with decimals to int?\ntest_float = 3.9\ntest_int = int(test_float)\nprint(f\"Converting 3.9 to int gives: {test_int}\")",
   "metadata": {},
   "execution_count": null,
   "outputs": []
  },
  {
   "cell_type": "markdown",
   "id": "7b54rgv8yx",
   "source": "## ✅ Boolean Exercises\n\n### Exercise 7: Comparison Operations",
   "metadata": {}
  },
  {
   "cell_type": "code",
   "id": "cieikcl6z4l",
   "source": "# Practice with boolean comparisons\nmy_age = 22\nlegal_drinking_age = 21\nlegal_voting_age = 18\nsenior_discount_age = 65\n\n# TODO: Create boolean variables for different eligibility checks\ncan_vote = # Your code here (compare my_age with legal_voting_age)\ncan_drink = # Your code here  \nqualifies_for_senior_discount = # Your code here\n\nprint(f\"Age: {my_age}\")\nprint(f\"Can vote: {can_vote}\")\nprint(f\"Can drink: {can_drink}\")\nprint(f\"Qualifies for senior discount: {qualifies_for_senior_discount}\")\n\n# TODO: Practice with other comparison operators\nx = 10\ny = 20\nprint(f\"{x} == {y}: {x == y}\")\nprint(f\"{x} != {y}: {x != y}\")\nprint(f\"{x} < {y}: {x < y}\")\nprint(f\"{x} > {y}: {x > y}\")\nprint(f\"{x} <= {y}: {x <= y}\")\nprint(f\"{x} >= {y}: {x >= y}\")",
   "metadata": {},
   "execution_count": null,
   "outputs": []
  },
  {
   "cell_type": "markdown",
   "id": "9lsdh17gmjp",
   "source": "### Exercise 8: Logical Operations and Truthiness",
   "metadata": {}
  },
  {
   "cell_type": "code",
   "id": "zb43lage1he",
   "source": "# Practice with logical operators (and, or, not)\nhas_ticket = True\nhas_id = False\nis_vip = True\n\n# TODO: Complete these logical expressions\ncan_enter_event = has_ticket  # Should be True only if has both ticket AND id\ngets_special_access = # Should be True if is VIP OR has both ticket and ID\nneeds_to_buy_ticket = # Should be True if does NOT have a ticket\n\nprint(f\"Has ticket: {has_ticket}\")\nprint(f\"Has ID: {has_id}\")\nprint(f\"Is VIP: {is_vip}\")\nprint(f\"Can enter event: {can_enter_event}\")\nprint(f\"Gets special access: {gets_special_access}\")\nprint(f\"Needs to buy ticket: {needs_to_buy_ticket}\")\n\nprint(\"\\n--- Truthiness of different values ---\")\n# TODO: Test what values are \"truthy\" or \"falsy\"\nvalues_to_test = [0, 1, \"\", \"hello\", [], [1, 2, 3], None, True, False]\n\nfor value in values_to_test:\n    print(f\"{repr(value)} is {'truthy' if bool(value) else 'falsy'}\")",
   "metadata": {},
   "execution_count": null,
   "outputs": []
  },
  {
   "cell_type": "markdown",
   "id": "n5c6bjft9e",
   "source": "## 📝 List Exercises\n\n### Exercise 9: Creating and Modifying Lists",
   "metadata": {}
  },
  {
   "cell_type": "code",
   "id": "isyu0u3v5tr",
   "source": "# TODO: Create a shopping list with at least 5 items\nshopping_list = # Your list here\n\nprint(\"Original shopping list:\", shopping_list)\n\n# TODO: Add two more items to your list using append()\nshopping_list.append(\"milk\")\n# Add one more item\n\n# TODO: Insert \"bread\" at the beginning of the list (index 0)\n# Your code here\n\n# TODO: Remove an item from the list using remove()\n# Your code here\n\nprint(\"Modified shopping list:\", shopping_list)\nprint(f\"Number of items: {len(shopping_list)}\")\n\n# TODO: Access and print the first and last items\nfirst_item = # Your code here\nlast_item = # Your code here\nprint(f\"First item: {first_item}\")\nprint(f\"Last item: {last_item}\")\n\n# TODO: Create a slice of the list (items 2 through 4)\nmiddle_items = # Your code here\nprint(f\"Middle items: {middle_items}\")",
   "metadata": {},
   "execution_count": null,
   "outputs": []
  },
  {
   "cell_type": "markdown",
   "id": "t86lmi7kf5",
   "source": "### Exercise 10: Working with Nested Lists",
   "metadata": {}
  },
  {
   "cell_type": "code",
   "id": "97v0rdkw7q6",
   "source": "# TODO: Create a grade book - list of lists where each inner list contains [student_name, grade]\ngrade_book = [\n    [\"Alice\", 85],\n    [\"Bob\", 92],\n    [\"Charlie\", 78]\n]\n\nprint(\"Grade book:\", grade_book)\n\n# TODO: Add a new student with their grade\n# Your code here\n\n# TODO: Access and print Bob's grade (hint: it's at index [1][1])\nbobs_grade = # Your code here\nprint(f\"Bob's grade: {bobs_grade}\")\n\n# TODO: Change Charlie's grade to 82\n# Your code here\n\n# TODO: Calculate the average grade\ntotal_grades = 0\nfor student_record in grade_book:\n    grade = student_record[1]  # Grade is at index 1\n    total_grades += grade\n\naverage_grade = total_grades / len(grade_book)\nprint(f\"Average grade: {average_grade:.1f}\")\n\nprint(\"Final grade book:\", grade_book)",
   "metadata": {},
   "execution_count": null,
   "outputs": []
  },
  {
   "cell_type": "markdown",
   "id": "r16qlklrkyg",
   "source": "## 🔒 Tuple Exercises\n\n### Exercise 11: Understanding Immutability",
   "metadata": {}
  },
  {
   "cell_type": "code",
   "id": "thsursaglm",
   "source": "# TODO: Create a tuple with RGB color values (red, green, blue)\nred_color = # Your tuple here (e.g., values between 0-255)\n\nprint(f\"Red color RGB: {red_color}\")\nprint(f\"Type: {type(red_color)}\")\n\n# TODO: Access individual color values\nred_value = # Your code here\ngreen_value = # Your code here  \nblue_value = # Your code here\n\nprint(f\"Red: {red_value}, Green: {green_value}, Blue: {blue_value}\")\n\n# TODO: Try to create a new tuple by \"adding\" to the existing one\nblue_color = (0, 0, 255)\npurple_color = # Create a new tuple by combining red and blue somehow\n\nprint(f\"Blue color: {blue_color}\")\nprint(f\"Purple color: {purple_color}\")\n\n# TODO: Create a tuple with coordinates (x, y, z) for a 3D point\npoint_3d = # Your code here\n\n# TODO: Use tuple unpacking to assign x, y, z to separate variables\nx, y, z = point_3d  # This is tuple unpacking!\nprint(f\"Point coordinates: x={x}, y={y}, z={z}\")",
   "metadata": {},
   "execution_count": null,
   "outputs": []
  },
  {
   "cell_type": "markdown",
   "id": "138br1u3bz3h",
   "source": "### Exercise 12: Tuple vs List Comparison",
   "metadata": {}
  },
  {
   "cell_type": "code",
   "id": "0k6jbfepaump",
   "source": "# Compare tuple and list behavior\nmy_list = [1, 2, 3]\nmy_tuple = (1, 2, 3)\n\nprint(\"Original list:\", my_list, \"ID:\", id(my_list))\nprint(\"Original tuple:\", my_tuple, \"ID:\", id(my_tuple))\n\n# TODO: Try to modify the list\nmy_list.append(4)\nprint(\"Modified list:\", my_list, \"ID:\", id(my_list))\n\n# TODO: Try to \"modify\" the tuple (create a new one)\n# Uncomment the line below and see what happens:\n# my_tuple.append(4)  # This will cause an error!\n\n# Instead, create a new tuple\nnew_tuple = my_tuple + (4,)\nprint(\"New tuple:\", new_tuple, \"ID:\", id(new_tuple))\nprint(\"Original tuple unchanged:\", my_tuple, \"ID:\", id(my_tuple))\n\n# TODO: When would you use a tuple vs a list?\n# List: When you need to _________ the data\n# Tuple: When you want ________ data that won't change\n\nprint(\"\\nTuple methods available:\")\nprint([method for method in dir(my_tuple) if not method.startswith('_')])",
   "metadata": {},
   "execution_count": null,
   "outputs": []
  },
  {
   "cell_type": "markdown",
   "id": "186ht9n8psd",
   "source": "## 📚 Dictionary Exercises\n\n### Exercise 13: Student Information System",
   "metadata": {}
  },
  {
   "cell_type": "code",
   "id": "ldsuasedg1q",
   "source": "# TODO: Create a dictionary representing a student\nstudent = {\n    \"name\": \"Your Name\",\n    \"age\": 20,\n    \"major\": \"Computer Science\",\n    \"gpa\": 3.5,\n    \"courses\": [\"Math 101\", \"CS 101\", \"Physics 101\"]\n}\n\nprint(\"Student info:\", student)\n\n# TODO: Access and print individual values\nstudent_name = # Your code here\nstudent_courses = # Your code here\n\nprint(f\"Student name: {student_name}\")\nprint(f\"Courses: {student_courses}\")\n\n# TODO: Add a new key-value pair for \"graduation_year\"\n# Your code here\n\n# TODO: Update the GPA to 3.7\n# Your code here\n\n# TODO: Add a new course to the courses list\nstudent[\"courses\"].append(\"Chemistry 101\")\n\nprint(\"\\nUpdated student info:\")\nfor key, value in student.items():\n    print(f\"{key}: {value}\")\n\n# TODO: Check if a key exists in the dictionary\nif \"email\" in student:\n    print(f\"Email: {student['email']}\")\nelse:\n    print(\"Email not found\")",
   "metadata": {},
   "execution_count": null,
   "outputs": []
  },
  {
   "cell_type": "markdown",
   "id": "2vtj8dsijg6",
   "source": "### Exercise 14: Contact Book",
   "metadata": {}
  },
  {
   "cell_type": "code",
   "id": "x9z4gr244km",
   "source": "# TODO: Create a contact book using nested dictionaries\ncontact_book = {\n    \"Alice\": {\n        \"phone\": \"123-456-7890\",\n        \"email\": \"alice@email.com\",\n        \"city\": \"New York\"\n    },\n    \"Bob\": {\n        \"phone\": \"987-654-3210\", \n        \"email\": \"bob@email.com\",\n        \"city\": \"Los Angeles\"\n    }\n}\n\nprint(\"Contact book:\", contact_book)\n\n# TODO: Add a new contact\ncontact_book[\"Charlie\"] = # Your dictionary here\n\n# TODO: Access Alice's phone number\nalice_phone = # Your code here\nprint(f\"Alice's phone: {alice_phone}\")\n\n# TODO: Update Bob's city to \"San Francisco\"\n# Your code here\n\n# TODO: Get all contact names (keys)\ncontact_names = # Your code here\nprint(f\"All contacts: {list(contact_names)}\")\n\n# TODO: Create a function to display contact info nicely\ndef display_contact(name):\n    if name in contact_book:\n        info = contact_book[name]\n        print(f\"\\n--- {name} ---\")\n        print(f\"Phone: {info['phone']}\")\n        print(f\"Email: {info['email']}\")\n        print(f\"City: {info['city']}\")\n    else:\n        print(f\"Contact {name} not found\")\n\n# Test the function\ndisplay_contact(\"Alice\")\ndisplay_contact(\"David\")  # This one doesn't exist",
   "metadata": {},
   "execution_count": null,
   "outputs": []
  },
  {
   "cell_type": "markdown",
   "id": "6yzg7pummo7",
   "source": "### Exercise 15: Challenge - Data Type Mix",
   "metadata": {}
  },
  {
   "cell_type": "code",
   "id": "bvuptd37t2t",
   "source": "# CHALLENGE: Create a complex data structure mixing all data types\n# Create a library system with books, authors, and borrowers\n\nlibrary = {\n    \"name\": \"City Public Library\",\n    \"established\": 1950,\n    \"is_open\": True,\n    \"books\": [\n        {\n            \"title\": \"Python Programming\",\n            \"author\": \"John Smith\", \n            \"isbn\": \"978-0123456789\",\n            \"available\": True,\n            \"pages\": 450,\n            \"genres\": (\"Programming\", \"Technology\", \"Education\"),\n            \"ratings\": [4.5, 4.8, 4.2, 4.9]\n        },\n        {\n            \"title\": \"Data Science Basics\",\n            \"author\": \"Jane Doe\",\n            \"isbn\": \"978-9876543210\", \n            \"available\": False,\n            \"pages\": 320,\n            \"genres\": (\"Data Science\", \"Technology\", \"Statistics\"),\n            \"ratings\": [4.1, 4.6, 4.3]\n        }\n    ],\n    \"borrowers\": {\n        \"member_001\": {\n            \"name\": \"Alice Johnson\",\n            \"borrowed_books\": [\"978-9876543210\"],\n            \"member_since\": 2020\n        }\n    }\n}\n\nprint(\"Library system created!\")\n\n# TODO: Add analysis questions for students to answer:\n\n# 1. What data types are used for each field? List them:\nprint(\"1. Data types analysis:\")\nprint(f\"   - Library name: {type(library['name'])}\")\nprint(f\"   - Established year: {type(library['established'])}\")\n# Continue for other fields...\n\n# 2. Calculate average rating for first book\nfirst_book_ratings = library[\"books\"][0][\"ratings\"]\naverage_rating = # Your calculation here\nprint(f\"\\n2. Average rating for '{library['books'][0]['title']}': {average_rating:.2f}\")\n\n# 3. Check if library is open and has available books\nis_open = library[\"is_open\"]\navailable_books_count = 0\nfor book in library[\"books\"]:\n    if book[\"available\"]:\n        available_books_count += 1\n\ncan_borrow = is_open and available_books_count > 0\nprint(f\"\\n3. Can borrow books today: {can_borrow}\")\nprint(f\"   (Library open: {is_open}, Available books: {available_books_count})\")\n\n# 4. TODO: Add yourself as a new borrower\n# Your code here",
   "metadata": {},
   "execution_count": null,
   "outputs": []
  },
  {
   "cell_type": "markdown",
   "id": "q9jjl5djeg",
   "source": "## 🎉 Congratulations!\n\nYou've completed the Python data types exercises! You've practiced working with:\n\n- **Strings** - Text data and string manipulation\n- **Integers & Floats** - Numeric data and calculations  \n- **Booleans** - True/False values and logical operations\n- **Lists** - Ordered, mutable collections\n- **Tuples** - Ordered, immutable collections\n- **Dictionaries** - Key-value pairs for structured data\n\n### Next Steps:\n1. Review any exercises you found challenging\n2. Try creating your own variations of these exercises\n3. Move on to the next lesson about operators and control flow\n\n### Key Takeaways:\n- Choose the right data type for your specific use case\n- Lists are mutable, tuples are immutable\n- Dictionaries are perfect for structured data with key-value relationships\n- Practice with real-world examples helps solidify understanding\n\nHappy coding! 🐍",
   "metadata": {}
  }
 ],
 "metadata": {
  "kernelspec": {
   "display_name": "Python 3",
   "language": "python",
   "name": "python3"
  },
  "language_info": {
   "codemirror_mode": {
    "name": "ipython",
    "version": 3
   },
   "file_extension": ".py",
   "mimetype": "text/x-python",
   "name": "python",
   "nbconvert_exporter": "python",
   "pygments_lexer": "ipython3",
   "version": "3.12.3"
  }
 },
 "nbformat": 4,
 "nbformat_minor": 5
}