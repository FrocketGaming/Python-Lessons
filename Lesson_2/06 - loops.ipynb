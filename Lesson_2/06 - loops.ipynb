{
 "cells": [
  {
   "cell_type": "markdown",
   "id": "005ed01a",
   "metadata": {},
   "source": [
    "# Loops\n",
    "Ways to iterate your code"
   ]
  },
  {
   "cell_type": "markdown",
   "id": "ae8b080d",
   "metadata": {},
   "source": [
    "### For Loop"
   ]
  },
  {
   "cell_type": "code",
   "execution_count": 2,
   "id": "5273860b",
   "metadata": {},
   "outputs": [
    {
     "name": "stdout",
     "output_type": "stream",
     "text": [
      "a\n",
      "b\n",
      "c\n",
      "d\n"
     ]
    }
   ],
   "source": [
    "my_list: list[str] = ['a', 'b', 'c', 'd']\n",
    "\n",
    "for item in my_list: # for each item in my_list\n",
    "    print(item)"
   ]
  },
  {
   "cell_type": "code",
   "execution_count": 4,
   "id": "30a25b5c",
   "metadata": {},
   "outputs": [
    {
     "name": "stdout",
     "output_type": "stream",
     "text": [
      "2\n",
      "4\n",
      "6\n",
      "8\n",
      "10\n"
     ]
    }
   ],
   "source": [
    "# Using it with a function\n",
    "\n",
    "my_items: list[int] = [1, 2, 3, 4, 5]\n",
    "\n",
    "for item in my_items:\n",
    "    print(item * 2) # Multiplies each item by 2"
   ]
  },
  {
   "cell_type": "code",
   "execution_count": null,
   "id": "0a1fa979",
   "metadata": {},
   "outputs": [
    {
     "name": "stdout",
     "output_type": "stream",
     "text": [
      "0\n",
      "1\n",
      "2\n",
      "3\n",
      "4\n",
      "5\n",
      "6\n",
      "7\n",
      "8\n",
      "9\n",
      "\n",
      "\n",
      "1\n",
      "2\n",
      "3\n",
      "4\n",
      "5\n",
      "6\n",
      "7\n",
      "8\n",
      "9\n"
     ]
    }
   ],
   "source": [
    "# Using the Range function\n",
    "for i in range(10): # it starts at 0, ends at 9.\n",
    "    print(i)\n",
    "\n",
    "print('\\n')\n",
    "\n",
    "for i in range(1, 10): # it starts at 1, ends at 9.\n",
    "    print(i)"
   ]
  },
  {
   "cell_type": "markdown",
   "id": "53e64659",
   "metadata": {},
   "source": [
    "### While Loop\n",
    "While a condition is True, the loop will continue; this can create infinite loops that never end until the program crashes"
   ]
  },
  {
   "cell_type": "code",
   "execution_count": 6,
   "id": "d9d9ed87",
   "metadata": {},
   "outputs": [
    {
     "name": "stdout",
     "output_type": "stream",
     "text": [
      "0\n",
      "1\n",
      "2\n",
      "3\n",
      "4\n",
      "5\n",
      "6\n",
      "7\n",
      "8\n",
      "9\n"
     ]
    }
   ],
   "source": [
    "# condition: bool = True\n",
    "\n",
    "# While condition:\n",
    "#     print('hello') # Will keep printing until condition is false which would never occur\n",
    "\n",
    "n: int = 0\n",
    "\n",
    "# Each time the loop runs, n is incremented by 1, when it hits 10, the loop ends\n",
    "while n < 10:\n",
    "    print(n)\n",
    "    n += 1"
   ]
  },
  {
   "cell_type": "markdown",
   "id": "9a65611c",
   "metadata": {},
   "source": [
    "### Loop Controls\n",
    "Manually controlling the flow of the loop based on conditions"
   ]
  },
  {
   "cell_type": "code",
   "execution_count": 8,
   "id": "021218e0",
   "metadata": {},
   "outputs": [
    {
     "name": "stdout",
     "output_type": "stream",
     "text": [
      "d\n",
      "d\n",
      "d\n",
      "dhel\n"
     ]
    }
   ],
   "source": [
    "while True:\n",
    "    command: str = input('>')\n",
    "    if command == 'quit':\n",
    "        break\n",
    "    elif command == 'hello':\n",
    "        continue\n",
    "    print(command)"
   ]
  },
  {
   "cell_type": "markdown",
   "id": "a001bb63",
   "metadata": {},
   "source": [
    "### Comprehensions"
   ]
  },
  {
   "cell_type": "code",
   "execution_count": null,
   "id": "d8e80c8d",
   "metadata": {},
   "outputs": [
    {
     "name": "stdout",
     "output_type": "stream",
     "text": [
      "[0, 1, 2, 3, 4, 5, 6, 7, 8, 9]\n",
      "{0, 1, 2, 3, 4, 5, 6, 7, 8, 9}\n",
      "{'0': 0, '1': 1, '2': 2, '3': 3, '4': 4, '5': 5, '6': 6, '7': 7, '8': 8, '9': 9}\n",
      "<generator object <genexpr> at 0x7fed6be48400>\n"
     ]
    }
   ],
   "source": [
    "# List\n",
    "my_list: list[str] = [i for i in range(10)]\n",
    "\n",
    "# Set\n",
    "my_set: set[int] = {i for i in range(10)}\n",
    "\n",
    "# Dictionary\n",
    "my_dict: dict[str, int] = {str(i): i for i in range(10)}\n",
    "\n",
    "print(my_list)\n",
    "print(my_set)\n",
    "print(my_dict)"
   ]
  },
  {
   "cell_type": "code",
   "execution_count": null,
   "id": "1fae67cf",
   "metadata": {},
   "outputs": [],
   "source": []
  }
 ],
 "metadata": {
  "kernelspec": {
   "display_name": "base",
   "language": "python",
   "name": "python3"
  },
  "language_info": {
   "codemirror_mode": {
    "name": "ipython",
    "version": 3
   },
   "file_extension": ".py",
   "mimetype": "text/x-python",
   "name": "python",
   "nbconvert_exporter": "python",
   "pygments_lexer": "ipython3",
   "version": "3.12.8"
  }
 },
 "nbformat": 4,
 "nbformat_minor": 5
}
