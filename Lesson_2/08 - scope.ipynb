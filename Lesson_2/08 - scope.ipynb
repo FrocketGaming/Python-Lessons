{
 "cells": [
  {
   "cell_type": "markdown",
   "id": "28d054e6",
   "metadata": {},
   "source": [
    "# Project Scope\n",
    "Reviewing global and local scope access"
   ]
  },
  {
   "cell_type": "code",
   "execution_count": null,
   "id": "f7505f59",
   "metadata": {},
   "outputs": [
    {
     "ename": "NameError",
     "evalue": "name 'hotel_details' is not defined",
     "output_type": "error",
     "traceback": [
      "\u001b[31m---------------------------------------------------------------------------\u001b[39m",
      "\u001b[31mNameError\u001b[39m                                 Traceback (most recent call last)",
      "\u001b[36mCell\u001b[39m\u001b[36m \u001b[39m\u001b[32mIn[3]\u001b[39m\u001b[32m, line 12\u001b[39m\n\u001b[32m      8\u001b[39m     \u001b[38;5;28;01mreturn\u001b[39;00m hotel_details[hotel_id]\n\u001b[32m     10\u001b[39m get_hotel_details(\u001b[32m1\u001b[39m) \u001b[38;5;66;03m# works fine\u001b[39;00m\n\u001b[32m---> \u001b[39m\u001b[32m12\u001b[39m \u001b[38;5;28mprint\u001b[39m(\u001b[43mhotel_details\u001b[49m) \u001b[38;5;66;03m# throws an error\u001b[39;00m\n",
      "\u001b[31mNameError\u001b[39m: name 'hotel_details' is not defined"
     ]
    }
   ],
   "source": [
    "def get_hotel_details(hotel_id: int) -> None:\n",
    "    hotel_details: dict[int, str] = {\n",
    "        1: \"Ritz\",\n",
    "        2: \"Hilton\",\n",
    "        3: \"Mariott\",\n",
    "    }\n",
    "\n",
    "    return hotel_details[hotel_id]\n",
    "\n",
    "get_hotel_details(1) # works fine\n",
    "\n",
    "print(hotel_details) # throws an error "
   ]
  },
  {
   "cell_type": "code",
   "execution_count": 18,
   "id": "b36184c0",
   "metadata": {},
   "outputs": [
    {
     "name": "stdout",
     "output_type": "stream",
     "text": [
      "{1: 'Ritz', 2: 'Hilton', 3: 'Mariott'}\n",
      "Ritz\n"
     ]
    }
   ],
   "source": [
    "def get_all_hotels() -> None:\n",
    "    hotel_details: dict[int, str] = {\n",
    "        1: \"Ritz\",\n",
    "        2: \"Hilton\",\n",
    "        3: \"Mariott\",\n",
    "    }\n",
    "\n",
    "    return hotel_details\n",
    "\n",
    "hotels: dict[int, str] = get_all_hotels()\n",
    "print(hotels)\n",
    "print(hotels[1])"
   ]
  },
  {
   "cell_type": "code",
   "execution_count": 4,
   "id": "67ec49c9",
   "metadata": {},
   "outputs": [
    {
     "name": "stdout",
     "output_type": "stream",
     "text": [
      "Hello Jon\n"
     ]
    }
   ],
   "source": [
    "user_name: str = \"Jon\"\n",
    "\n",
    "def hello_user() -> None:\n",
    "    print(f\"Hello {user_name}\")\n",
    "\n",
    "hello_user() # Works fine due to global scope"
   ]
  },
  {
   "cell_type": "code",
   "execution_count": null,
   "id": "f8b51a75",
   "metadata": {},
   "outputs": [
    {
     "name": "stdout",
     "output_type": "stream",
     "text": [
      "Hello 9!\n"
     ]
    }
   ],
   "source": [
    "for i in range(10):\n",
    "    punctuation: str = \"!\"\n",
    "    msg: str = f\"Hello {i}\"\n",
    "\n",
    "print(msg + punctuation)"
   ]
  },
  {
   "cell_type": "code",
   "execution_count": null,
   "id": "7ea243c0",
   "metadata": {},
   "outputs": [
    {
     "ename": "UnboundLocalError",
     "evalue": "cannot access local variable 'high_score' where it is not associated with a value",
     "output_type": "error",
     "traceback": [
      "\u001b[31m---------------------------------------------------------------------------\u001b[39m",
      "\u001b[31mUnboundLocalError\u001b[39m                         Traceback (most recent call last)",
      "\u001b[36mCell\u001b[39m\u001b[36m \u001b[39m\u001b[32mIn[8]\u001b[39m\u001b[32m, line 7\u001b[39m\n\u001b[32m      5\u001b[39m     \u001b[38;5;28;01mif\u001b[39;00m new_score > high_score:\n\u001b[32m      6\u001b[39m         high_score = new_score\n\u001b[32m----> \u001b[39m\u001b[32m7\u001b[39m \u001b[38;5;28mprint\u001b[39m(\u001b[43mscore\u001b[49m\u001b[43m(\u001b[49m\u001b[43m)\u001b[49m)\n\u001b[32m      8\u001b[39m \u001b[38;5;28mprint\u001b[39m(high_score)\n",
      "\u001b[36mCell\u001b[39m\u001b[36m \u001b[39m\u001b[32mIn[8]\u001b[39m\u001b[32m, line 5\u001b[39m, in \u001b[36mscore\u001b[39m\u001b[34m()\u001b[39m\n\u001b[32m      3\u001b[39m \u001b[38;5;28;01mdef\u001b[39;00m\u001b[38;5;250m \u001b[39m\u001b[34mscore\u001b[39m():\n\u001b[32m      4\u001b[39m     new_score = \u001b[32m4\u001b[39m\n\u001b[32m----> \u001b[39m\u001b[32m5\u001b[39m     \u001b[38;5;28;01mif\u001b[39;00m new_score > \u001b[43mhigh_score\u001b[49m:\n\u001b[32m      6\u001b[39m         high_score = new_score\n",
      "\u001b[31mUnboundLocalError\u001b[39m: cannot access local variable 'high_score' where it is not associated with a value"
     ]
    }
   ],
   "source": [
    "high_score: int = 0\n",
    "\n",
    "def score():\n",
    "    new_score: int = 4\n",
    "    if new_score > high_score:\n",
    "        high_score: int = new_score # This is now a local variable\n",
    "\n",
    "print(score())\n",
    "print(high_score)"
   ]
  },
  {
   "cell_type": "code",
   "execution_count": 13,
   "id": "e734d7f3",
   "metadata": {},
   "outputs": [
    {
     "name": "stdout",
     "output_type": "stream",
     "text": [
      "4\n"
     ]
    }
   ],
   "source": [
    "# To fix the above you need to use global keyword\n",
    "high_score: int = 0\n",
    "\n",
    "def score():\n",
    "    global high_score\n",
    "    new_score: int = 4\n",
    "    if new_score > high_score:\n",
    "        high_score= new_score # Cannot type hint here\n",
    "\n",
    "score()\n",
    "print(high_score)"
   ]
  },
  {
   "cell_type": "markdown",
   "id": "bf009ab0",
   "metadata": {},
   "source": [
    "In general the above is considered bad practice, we don't want to use global scope variables unless they're constants like below"
   ]
  },
  {
   "cell_type": "code",
   "execution_count": 14,
   "id": "0fa98672",
   "metadata": {},
   "outputs": [
    {
     "name": "stdout",
     "output_type": "stream",
     "text": [
      "100\n",
      "100\n"
     ]
    }
   ],
   "source": [
    "MAX_THRESHOLD: int = 100\n",
    "\n",
    "def get_threshold() -> int:\n",
    "    return MAX_THRESHOLD\n",
    "\n",
    "print(get_threshold())\n",
    "print(MAX_THRESHOLD)"
   ]
  },
  {
   "cell_type": "code",
   "execution_count": 22,
   "id": "05886265",
   "metadata": {},
   "outputs": [
    {
     "name": "stdout",
     "output_type": "stream",
     "text": [
      "94\n"
     ]
    }
   ],
   "source": [
    "# So instead of global keywords, we pass variables as arguments\n",
    "\n",
    "high_score: int = 90\n",
    "\n",
    "def score(high_score: int) -> int:\n",
    "    new_score: int = 94\n",
    "    if new_score > high_score:\n",
    "        return new_score\n",
    "\n",
    "final_score: int = score(high_score)\n",
    "print(final_score)"
   ]
  },
  {
   "cell_type": "code",
   "execution_count": 23,
   "id": "0006ff99",
   "metadata": {},
   "outputs": [
    {
     "name": "stdout",
     "output_type": "stream",
     "text": [
      "94\n"
     ]
    }
   ],
   "source": [
    "# The above approach could be cleaner though!\n",
    "high_score: int = 90\n",
    "\n",
    "def score(high_score: int) -> int:\n",
    "    new_score: int = 94\n",
    "    return max(new_score, high_score)\n",
    "\n",
    "final_score: int = score(high_score)\n",
    "print(final_score)"
   ]
  },
  {
   "cell_type": "code",
   "execution_count": null,
   "id": "cf708457",
   "metadata": {},
   "outputs": [],
   "source": []
  }
 ],
 "metadata": {
  "kernelspec": {
   "display_name": "base",
   "language": "python",
   "name": "python3"
  },
  "language_info": {
   "codemirror_mode": {
    "name": "ipython",
    "version": 3
   },
   "file_extension": ".py",
   "mimetype": "text/x-python",
   "name": "python",
   "nbconvert_exporter": "python",
   "pygments_lexer": "ipython3",
   "version": "3.12.8"
  }
 },
 "nbformat": 4,
 "nbformat_minor": 5
}
